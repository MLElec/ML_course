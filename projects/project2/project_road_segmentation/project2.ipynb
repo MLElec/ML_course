{
 "cells": [
  {
   "cell_type": "code",
   "execution_count": null,
   "metadata": {
    "collapsed": false
   },
   "outputs": [],
   "source": [
    "%matplotlib inline\n",
    "import matplotlib.image as mpimg\n",
    "import numpy as np\n",
    "import matplotlib.pyplot as plt\n",
    "import os, sys\n",
    "from PIL import Image\n",
    "from sklearn.metrics import f1_score\n",
    "import tensorflow as tf\n",
    "import datetime\n",
    "\n",
    "%load_ext autoreload\n",
    "%autoreload 2\n",
    "    \n",
    "import ml_utils.road_seg as rs\n",
    "import ml_utils.model as model\n",
    "import ml_utils.data_augmentation as d_aug\n",
    "import ml_utils.postprocess as pproc"
   ]
  },
  {
   "cell_type": "code",
   "execution_count": null,
   "metadata": {
    "collapsed": true
   },
   "outputs": [],
   "source": [
    "path_data = 'data'\n",
    "path_train_dir = os.path.join(path_data, 'training')\n",
    "path_test = os.path.join(path_data, 'test_set_images')\n",
    "path_models = 'model'"
   ]
  },
  {
   "cell_type": "markdown",
   "metadata": {},
   "source": [
    "# 2. Model training\n"
   ]
  },
  {
   "cell_type": "code",
   "execution_count": null,
   "metadata": {
    "collapsed": false
   },
   "outputs": [],
   "source": [
    "import ml_utils.model as model\n",
    "\n",
    "m = model.Model(model_type='cnn_bn')"
   ]
  },
  {
   "cell_type": "code",
   "execution_count": null,
   "metadata": {
    "collapsed": true,
    "scrolled": true
   },
   "outputs": [],
   "source": [
    "m.train_model(path_train_dir, n_epoch=150, display_epoch=5, nmax=10, n_aug=400, n_worst=50, ratio=1.0)"
   ]
  },
  {
   "cell_type": "code",
   "execution_count": null,
   "metadata": {
    "collapsed": false
   },
   "outputs": [],
   "source": [
    "m.plot_stats('model/submission_model_stats.npy')"
   ]
  },
  {
   "cell_type": "markdown",
   "metadata": {},
   "source": [
    "# 3. Results vizualisation\n"
   ]
  },
  {
   "cell_type": "code",
   "execution_count": null,
   "metadata": {
    "collapsed": false
   },
   "outputs": [],
   "source": [
    "file_save = 'model/submission_model.ckpt'\n",
    "\n",
    "m = model.Model(model_type='cnn_bn')"
   ]
  },
  {
   "cell_type": "code",
   "execution_count": null,
   "metadata": {
    "collapsed": true
   },
   "outputs": [],
   "source": [
    "train_imgs, train_gt, val_imgs, val_gt = m._get_base_sets(ratio=0.8)\n",
    "train_imgs, _, _ = rs.normalize_data(train_imgs, mode='all', mean_ref = m.mean, std_ref = m.std) "
   ]
  },
  {
   "cell_type": "code",
   "execution_count": null,
   "metadata": {
    "collapsed": true
   },
   "outputs": [],
   "source": [
    "y_pred_train = m.apply_model(train_imgs, file_save)\n",
    "print('F1-score train: {}'.format(m.predict_f1(train_gt, y_pred_train)))\n",
    "#y_pred_valid = m.apply_model(val_imgs, file_save)\n",
    "#print('F1-score validation: {}'.format(m.predict_f1(val_gt, y_pred_valid)))"
   ]
  },
  {
   "cell_type": "code",
   "execution_count": null,
   "metadata": {
    "collapsed": true,
    "scrolled": false
   },
   "outputs": [],
   "source": [
    "train_imgs, train_gt, val_imgs, val_gt = m._get_base_sets(ratio=1.0)\n",
    "rs.display_predictions(y_pred_train, train_imgs, train_gt, n_display=20)"
   ]
  },
  {
   "cell_type": "code",
   "execution_count": null,
   "metadata": {
    "collapsed": true
   },
   "outputs": [],
   "source": [
    "pred_proc = pproc.process_all(y_pred_train)\n",
    "\n",
    "print('F1-score train: {}'.format(m.predict_f1(train_gt, y_pred_train)))\n",
    "print('F1-score train: {}'.format(m.predict_f1(train_gt, pred_proc)))"
   ]
  },
  {
   "cell_type": "code",
   "execution_count": null,
   "metadata": {
    "collapsed": true
   },
   "outputs": [],
   "source": [
    "#pred_proc = pproc.process_all(y_pred_valid)\n",
    "\n",
    "#print('F1-score train: {}'.format(m.predict_f1(val_gt, y_pred_valid)))\n",
    "#print('F1-score train: {}'.format(m.predict_f1(val_gt, pred_proc)))"
   ]
  },
  {
   "cell_type": "markdown",
   "metadata": {},
   "source": [
    "# 4. Post Process"
   ]
  },
  {
   "cell_type": "code",
   "execution_count": null,
   "metadata": {
    "collapsed": true
   },
   "outputs": [],
   "source": [
    "test_img = rs.load_test_set(path_test)\n",
    "test_img_norm, _, _ = rs.normalize_data(test_img, mode='all', mean_ref=m.mean, std_ref=m.std)"
   ]
  },
  {
   "cell_type": "code",
   "execution_count": null,
   "metadata": {
    "collapsed": true
   },
   "outputs": [],
   "source": [
    "# m = model.Model(model_type='cnn_bn', display_log=False)\n",
    "y_pred_test = m.apply_model(test_img_norm, file_save, nmax=5)"
   ]
  },
  {
   "cell_type": "code",
   "execution_count": null,
   "metadata": {
    "collapsed": true
   },
   "outputs": [],
   "source": [
    "y_pred_test_proc = pproc.process_all(y_pred_test, size_image=608)"
   ]
  },
  {
   "cell_type": "code",
   "execution_count": null,
   "metadata": {
    "collapsed": true,
    "scrolled": false
   },
   "outputs": [],
   "source": [
    "im_proc = np.reshape(y_pred_test_proc, (-1, 608, 608))\n",
    "im_base = np.reshape(y_pred_test, (-1, 608, 608))\n",
    "rs.display_predictions(y_pred_test, test_img, im_proc, n_display=50)"
   ]
  },
  {
   "cell_type": "markdown",
   "metadata": {},
   "source": [
    "# 4. Submission"
   ]
  },
  {
   "cell_type": "code",
   "execution_count": null,
   "metadata": {
    "collapsed": true
   },
   "outputs": [],
   "source": [
    "rs.create_submission(im_base, 'test_150epoch_pre.csv')"
   ]
  },
  {
   "cell_type": "code",
   "execution_count": null,
   "metadata": {
    "collapsed": true
   },
   "outputs": [],
   "source": [
    "rs.create_submission(im_proc, 'test_150epoch_full.csv')"
   ]
  },
  {
   "cell_type": "code",
   "execution_count": null,
   "metadata": {
    "collapsed": true
   },
   "outputs": [],
   "source": []
  }
 ],
 "metadata": {
  "anaconda-cloud": {},
  "kernelspec": {
   "display_name": "Python [conda env:pcml]",
   "language": "python",
   "name": "conda-env-pcml-py"
  },
  "language_info": {
   "codemirror_mode": {
    "name": "ipython",
    "version": 3
   },
   "file_extension": ".py",
   "mimetype": "text/x-python",
   "name": "python",
   "nbconvert_exporter": "python",
   "pygments_lexer": "ipython3",
   "version": "3.5.4"
  }
 },
 "nbformat": 4,
 "nbformat_minor": 2
}
