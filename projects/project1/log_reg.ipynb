{
 "cells": [
  {
   "cell_type": "code",
   "execution_count": 1,
   "metadata": {},
   "outputs": [],
   "source": [
    "##Ridge regression \n",
    "\n",
    "import os\n",
    "import matplotlib.pyplot as plt\n",
    "import numpy as np\n",
    "import scripts.implementations as lib  # Add personal library\n",
    "import scripts.proj1_helpers as helper  # Add personal library\n",
    "\n",
    "%matplotlib inline\n",
    "%load_ext autoreload\n",
    "%autoreload 2\n",
    "np.set_printoptions(precision=4)\n",
    "\n",
    "DATA_FOLDER = 'data'\n",
    "DATA_TRAIN = os.path.join(DATA_FOLDER, 'train.csv')\n",
    "DATA_TEST = os.path.join(DATA_FOLDER, 'test.csv')\n",
    "\n",
    "y, x, ids, header = helper.load_csv_data(DATA_TRAIN)\n",
    "y_train, x_train,  y_validation, x_validation = lib.sep_valid_train_data(x,y, 0.8);\n",
    "N = 1000\n",
    "\n",
    "y_train = np.expand_dims(y_train[:N], axis=1)\n",
    "x_train = x_train[:N]\n",
    "y_validation = np.expand_dims(y_validation[:N], axis=1)\n",
    "x_validation = x_validation[:N]\n"
   ]
  },
  {
   "cell_type": "code",
   "execution_count": 2,
   "metadata": {},
   "outputs": [],
   "source": [
    "x_train[x_train == -999] = np.nan\n",
    "x_validation[x_validation == -999] = np.nan"
   ]
  },
  {
   "cell_type": "code",
   "execution_count": 3,
   "metadata": {},
   "outputs": [
    {
     "name": "stdout",
     "output_type": "stream",
     "text": [
      "Feature 1 - DER_mass_MMC has range: [15.3870, 685.7010]\n",
      "Feature 2 - DER_mass_transverse_met_lep has range: [0.0710, 426.2370]\n",
      "Feature 3 - DER_mass_vis has range: [13.0000, 529.5010]\n",
      "Feature 4 - DER_pt_h has range: [0.1020, 509.6950]\n",
      "Feature 5 - DER_deltaeta_jet_jet has range: [0.0170, 7.3970]\n",
      "Feature 6 - DER_mass_jet_jet has range: [33.9890, 2285.6570]\n",
      "Feature 7 - DER_prodeta_jet_jet has range: [-13.3980, 11.3740]\n",
      "Feature 8 - DER_deltar_tau_lep has range: [0.4520, 5.3210]\n",
      "Feature 9 - DER_pt_tot has range: [0.0370, 215.5600]\n",
      "Feature 10 - DER_sum_pt has range: [47.1170, 1282.5230]\n",
      "Feature 11 - DER_pt_ratio_lep_tau has range: [0.1380, 10.1490]\n",
      "Feature 12 - DER_met_phi_centrality has range: [-1.4140, 1.4140]\n",
      "Feature 13 - DER_lep_eta_centrality has range: [0.0000, 1.0000]\n",
      "Feature 14 - PRI_tau_pt has range: [20.0010, 381.6290]\n",
      "Feature 15 - PRI_tau_eta has range: [-2.4860, 2.4630]\n",
      "Feature 16 - PRI_tau_phi has range: [-3.1350, 3.1350]\n",
      "Feature 17 - PRI_lep_pt has range: [26.1050, 306.6340]\n",
      "Feature 18 - PRI_lep_eta has range: [-2.4370, 2.4560]\n",
      "Feature 19 - PRI_lep_phi has range: [-3.1400, 3.1190]\n",
      "Feature 20 - PRI_met has range: [0.7960, 358.2660]\n",
      "Feature 21 - PRI_met_phi has range: [-3.1310, 3.1360]\n",
      "Feature 22 - PRI_met_sumet has range: [28.3940, 1364.6320]\n",
      "Feature 23 - PRI_jet_num has range: [0.0000, 3.0000]\n",
      "Feature 24 - PRI_jet_leading_pt has range: [30.0680, 681.2320]\n",
      "Feature 25 - PRI_jet_leading_eta has range: [-4.1330, 4.2790]\n",
      "Feature 26 - PRI_jet_leading_phi has range: [-3.1320, 3.1410]\n",
      "Feature 27 - PRI_jet_subleading_pt has range: [30.0890, 358.7010]\n",
      "Feature 28 - PRI_jet_subleading_eta has range: [-4.4720, 4.3370]\n",
      "Feature 29 - PRI_jet_subleading_phi has range: [-3.0850, 3.0830]\n",
      "Feature 30 - PRI_jet_all_pt has range: [0.0000, 1039.9320]\n"
     ]
    }
   ],
   "source": [
    "for i, feature in enumerate(x_train.T):\n",
    "    print('Feature {} - {} has range: [{:.4f}, {:.4f}]'.format(\n",
    "        i+1, header[i], np.nanmin(feature), np.nanmax(feature)))"
   ]
  },
  {
   "cell_type": "code",
   "execution_count": 42,
   "metadata": {},
   "outputs": [
    {
     "name": "stdout",
     "output_type": "stream",
     "text": [
      "16.1565\n",
      "[  22.175    27.3595   16.1565   32.294     1.156   139.223     1.451\n",
      "    0.591     8.693    49.5995    0.434     0.9215    0.418     8.314\n",
      "    0.909     1.593     9.4345    1.0265    1.6145   16.0235    1.6605\n",
      "   60.0805    1.       24.974     1.309     1.485    10.352     1.646\n",
      "    1.523    39.939 ]\n"
     ]
    },
    {
     "data": {
      "image/png": "[encoded data removed]",
      "text/plain": [
       "<matplotlib.figure.Figure at 0x7f1c7ec70dd8>"
      ]
     },
     "metadata": {},
     "output_type": "display_data"
    }
   ],
   "source": [
    "def mad(arr):\n",
    "    \"\"\" Median Absolute Deviation: a \"Robust\" version of standard deviation.\n",
    "        Indices variabililty of the sample.\n",
    "        https://en.wikipedia.org/wiki/Median_absolute_deviation \n",
    "    \"\"\"\n",
    "    arr = np.ma.array(arr).compressed() # should be faster to not use masked arrays.\n",
    "    med = np.median(arr)\n",
    "    return np.median(np.abs(arr - med))\n",
    "\n",
    "def mad_3(x_feat):\n",
    "    \"\"\" Median Absolute Deviation: a \"Robust\" version of standard deviation.\n",
    "        Indices variabililty of the sample.\n",
    "        https://en.wikipedia.org/wiki/Median_absolute_deviation \n",
    "    \"\"\"\n",
    "    mad_res = np.ones(x_feat.shape[1])\n",
    "    for i, col in enumerate(x_feat.T):\n",
    "        arr = np.ma.array(col).compressed() # should be faster to not use masked arrays.\n",
    "        med = np.nanmedian(arr)\n",
    "        mad_res[i] = np.nanmedian(np.abs(arr - med))\n",
    "\n",
    "    return mad_res\n",
    "\n",
    "# plt.hist(x_train[:,2], bins=50)\n",
    "x_t = x_train[:,2].copy()\n",
    "x_t[x_t > 250] = 0\n",
    "#print(np.std(x_t))\n",
    "#print(np.std(x_train[:,2]))\n",
    "print(mad(x_train[:,2]))\n",
    "print(mad_3(x_train))\n",
    "#print('')\n",
    "#print(np.mean(x_t))\n",
    "#print(np.mean(x_train[:,2]))\n",
    "#print(np.median(x_train[:,2]))\n",
    "\n",
    "plt.hist((x_train[:,2]-np.median(x_train[:,2]))/mad(x_train[:,2]), bins=50)\n",
    "plt.show()"
   ]
  },
  {
   "cell_type": "code",
   "execution_count": 38,
   "metadata": {},
   "outputs": [
    {
     "data": {
      "image/png": "[encoded data removed]",
      "text/plain": [
       "<matplotlib.figure.Figure at 0x7f1c7e7f4f60>"
      ]
     },
     "metadata": {},
     "output_type": "display_data"
    }
   ],
   "source": [
    "plt.hist((x_train[:,2]-np.mean(x_train[:,2]))/np.std(x_train[:,2]), bins=50)\n",
    "plt.show()"
   ]
  },
  {
   "cell_type": "markdown",
   "metadata": {},
   "source": [
    "## Ridge with no_nan\n"
   ]
  },
  {
   "cell_type": "code",
   "execution_count": 4,
   "metadata": {},
   "outputs": [
    {
     "name": "stdout",
     "output_type": "stream",
     "text": [
      "\n",
      "Std: [ 0.9127  1.      1.      1.      0.5357  0.5357  0.5357  1.      1.      1.\n",
      "  1.      1.      0.5357  1.      1.      1.      1.      1.      1.      1.\n",
      "  1.      1.      1.      0.7829  0.7829  0.7829  0.5357  0.5357  0.5357\n",
      "  1.    ]\n",
      "\n",
      "Std: [ 0.9149  1.      1.      1.      0.5357  0.5357  0.5357  1.      1.      1.\n",
      "  1.      1.      0.5357  1.      1.      1.      1.      1.      1.      1.\n",
      "  1.      1.      1.      0.7701  0.7701  0.7701  0.5357  0.5357  0.5357\n",
      "  1.    ]\n"
     ]
    }
   ],
   "source": [
    "# normalize features\n",
    "x_no_nan = x_train.copy()\n",
    "x_no_nan = (x_no_nan - np.nanmean(x_no_nan, axis=0))/np.nanstd(x_no_nan, axis=0)\n",
    "x_no_nan = np.nan_to_num(x_no_nan)\n",
    "print('\\nStd:', np.std(x_no_nan, axis=0))\n",
    "\n",
    "# normalize features\n",
    "x_no_nan_val = x_validation.copy()\n",
    "x_no_nan_val = (x_no_nan_val - np.nanmean(x_no_nan_val, axis=0))/np.nanstd(x_no_nan_val, axis=0)\n",
    "x_no_nan_val = np.nan_to_num(x_no_nan_val)\n",
    "print('\\nStd:', np.std(x_no_nan_val, axis=0))"
   ]
  },
  {
   "cell_type": "code",
   "execution_count": 8,
   "metadata": {
    "scrolled": true
   },
   "outputs": [
    {
     "name": "stdout",
     "output_type": "stream",
     "text": [
      "validation acc deg=1 lam=10.0 loss=551.5785396238977: 0.5560, 0.7450\n",
      "validation acc deg=1 lam=20.6913808111479 loss=584.3543076815613: 0.5600, 0.7420\n",
      "validation acc deg=1 lam=42.81332398719393 loss=621.6680062599812: 0.5390, 0.7420\n",
      "validation acc deg=1 lam=88.58667904100822 loss=649.1770871668065: 0.5620, 0.7300\n",
      "validation acc deg=1 lam=183.29807108324357 loss=667.229694159798: 0.5200, 0.7290\n",
      "validation acc deg=1 lam=379.26901907322497 loss=681.9457627407514: 0.5740, 0.7020\n",
      "validation acc deg=1 lam=784.7599703514607 loss=692.8326523649348: 0.5350, 0.6140\n"
     ]
    },
    {
     "name": "stderr",
     "output_type": "stream",
     "text": [
      "/home/abbet/anaconda3/envs/ml/lib/python3.5/site-packages/ipykernel/__main__.py:8: RuntimeWarning: divide by zero encountered in log\n",
      "/home/abbet/anaconda3/envs/ml/lib/python3.5/site-packages/ipykernel/__main__.py:8: RuntimeWarning: invalid value encountered in multiply\n",
      "/home/abbet/anaconda3/envs/ml/lib/python3.5/site-packages/ipykernel/__main__.py:3: RuntimeWarning: overflow encountered in exp\n",
      "  app.launch_new_instance()\n",
      "/home/abbet/anaconda3/envs/ml/lib/python3.5/site-packages/ipykernel/__main__.py:17: RuntimeWarning: overflow encountered in double_scalars\n",
      "/home/abbet/anaconda3/envs/ml/lib/python3.5/site-packages/ipykernel/__main__.py:21: RuntimeWarning: overflow encountered in multiply\n"
     ]
    },
    {
     "name": "stdout",
     "output_type": "stream",
     "text": [
      "validation acc deg=1 lam=1623.776739188721 loss=nan: 0.0000, 0.0000\n",
      "validation acc deg=1 lam=3359.818286283781 loss=nan: 0.0000, 0.0000\n",
      "validation acc deg=1 lam=6951.927961775606 loss=nan: 0.0000, 0.0000\n",
      "validation acc deg=1 lam=14384.498882876629 loss=nan: 0.0000, 0.0000\n",
      "validation acc deg=1 lam=29763.51441631313 loss=nan: 0.0000, 0.0000\n"
     ]
    },
    {
     "ename": "KeyboardInterrupt",
     "evalue": "",
     "output_type": "error",
     "traceback": [
      "\u001b[0;31m---------------------------------------------------------------------------\u001b[0m",
      "\u001b[0;31mKeyboardInterrupt\u001b[0m                         Traceback (most recent call last)",
      "\u001b[0;32m<ipython-input-8-fbeddec04703>\u001b[0m in \u001b[0;36m<module>\u001b[0;34m()\u001b[0m\n\u001b[1;32m     73\u001b[0m \u001b[0;34m\u001b[0m\u001b[0m\n\u001b[1;32m     74\u001b[0m     \u001b[0mprint\u001b[0m\u001b[0;34m(\u001b[0m\u001b[0;34m'validation MAX acc: {:.6f}'\u001b[0m\u001b[0;34m.\u001b[0m\u001b[0mformat\u001b[0m\u001b[0;34m(\u001b[0m\u001b[0mnp\u001b[0m\u001b[0;34m.\u001b[0m\u001b[0mmax\u001b[0m\u001b[0;34m(\u001b[0m\u001b[0macc_val\u001b[0m\u001b[0;34m)\u001b[0m\u001b[0;34m)\u001b[0m\u001b[0;34m)\u001b[0m\u001b[0;34m\u001b[0m\u001b[0m\n\u001b[0;32m---> 75\u001b[0;31m \u001b[0mlogistic_regression_gradient_descent_demo\u001b[0m\u001b[0;34m(\u001b[0m\u001b[0mx_no_nan\u001b[0m\u001b[0;34m,\u001b[0m \u001b[0my_train\u001b[0m\u001b[0;34m,\u001b[0m \u001b[0mx_no_nan_val\u001b[0m\u001b[0;34m,\u001b[0m \u001b[0my_validation\u001b[0m\u001b[0;34m,\u001b[0m \u001b[0mdegrees\u001b[0m\u001b[0;34m=\u001b[0m\u001b[0;36m1\u001b[0m\u001b[0;34m)\u001b[0m\u001b[0;34m\u001b[0m\u001b[0m\n\u001b[0m",
      "\u001b[0;32m<ipython-input-8-fbeddec04703>\u001b[0m in \u001b[0;36mlogistic_regression_gradient_descent_demo\u001b[0;34m(x, y, x_val, y_val, degrees)\u001b[0m\n\u001b[1;32m     61\u001b[0m             \u001b[0;32mfor\u001b[0m \u001b[0miter\u001b[0m \u001b[0;32min\u001b[0m \u001b[0mrange\u001b[0m\u001b[0;34m(\u001b[0m\u001b[0mmax_iter\u001b[0m\u001b[0;34m)\u001b[0m\u001b[0;34m:\u001b[0m\u001b[0;34m\u001b[0m\u001b[0m\n\u001b[1;32m     62\u001b[0m                 \u001b[0;31m# get loss and update w.\u001b[0m\u001b[0;34m\u001b[0m\u001b[0;34m\u001b[0m\u001b[0m\n\u001b[0;32m---> 63\u001b[0;31m                 \u001b[0mloss\u001b[0m\u001b[0;34m,\u001b[0m \u001b[0mw\u001b[0m \u001b[0;34m=\u001b[0m \u001b[0mlearning_by_penalized_gradient\u001b[0m\u001b[0;34m(\u001b[0m\u001b[0m_y\u001b[0m\u001b[0;34m,\u001b[0m \u001b[0mphi_train\u001b[0m\u001b[0;34m,\u001b[0m \u001b[0mw\u001b[0m\u001b[0;34m,\u001b[0m \u001b[0mgamma\u001b[0m\u001b[0;34m,\u001b[0m \u001b[0mlambda_\u001b[0m\u001b[0;34m)\u001b[0m\u001b[0;34m\u001b[0m\u001b[0m\n\u001b[0m\u001b[1;32m     64\u001b[0m                 \u001b[0;31m# converge criterion\u001b[0m\u001b[0;34m\u001b[0m\u001b[0;34m\u001b[0m\u001b[0m\n\u001b[1;32m     65\u001b[0m                 \u001b[0mlosses\u001b[0m\u001b[0;34m.\u001b[0m\u001b[0mappend\u001b[0m\u001b[0;34m(\u001b[0m\u001b[0mloss\u001b[0m\u001b[0;34m)\u001b[0m\u001b[0;34m\u001b[0m\u001b[0m\n",
      "\u001b[0;32m<ipython-input-8-fbeddec04703>\u001b[0m in \u001b[0;36mlearning_by_penalized_gradient\u001b[0;34m(y, tx, w, gamma, lambda_)\u001b[0m\n\u001b[1;32m     27\u001b[0m     \u001b[0mReturn\u001b[0m \u001b[0mthe\u001b[0m \u001b[0mloss\u001b[0m \u001b[0;32mand\u001b[0m \u001b[0mupdated\u001b[0m \u001b[0mw\u001b[0m\u001b[0;34m.\u001b[0m\u001b[0;34m\u001b[0m\u001b[0m\n\u001b[1;32m     28\u001b[0m     \"\"\"\n\u001b[0;32m---> 29\u001b[0;31m     \u001b[0mloss\u001b[0m\u001b[0;34m,\u001b[0m \u001b[0mgrad\u001b[0m \u001b[0;34m=\u001b[0m \u001b[0mpenalized_logistic_regression\u001b[0m\u001b[0;34m(\u001b[0m\u001b[0my\u001b[0m\u001b[0;34m,\u001b[0m \u001b[0mtx\u001b[0m\u001b[0;34m,\u001b[0m \u001b[0mw\u001b[0m\u001b[0;34m,\u001b[0m \u001b[0mlambda_\u001b[0m\u001b[0;34m)\u001b[0m\u001b[0;34m\u001b[0m\u001b[0m\n\u001b[0m\u001b[1;32m     30\u001b[0m     \u001b[0mw\u001b[0m \u001b[0;34m-=\u001b[0m \u001b[0mgamma\u001b[0m \u001b[0;34m*\u001b[0m \u001b[0mgrad\u001b[0m\u001b[0;34m\u001b[0m\u001b[0m\n\u001b[1;32m     31\u001b[0m     \u001b[0;32mreturn\u001b[0m \u001b[0mloss\u001b[0m\u001b[0;34m,\u001b[0m \u001b[0mw\u001b[0m\u001b[0;34m\u001b[0m\u001b[0m\n",
      "\u001b[0;32m<ipython-input-8-fbeddec04703>\u001b[0m in \u001b[0;36mpenalized_logistic_regression\u001b[0;34m(y, tx, w, lambda_)\u001b[0m\n\u001b[1;32m     15\u001b[0m \u001b[0;32mdef\u001b[0m \u001b[0mpenalized_logistic_regression\u001b[0m\u001b[0;34m(\u001b[0m\u001b[0my\u001b[0m\u001b[0;34m,\u001b[0m \u001b[0mtx\u001b[0m\u001b[0;34m,\u001b[0m \u001b[0mw\u001b[0m\u001b[0;34m,\u001b[0m \u001b[0mlambda_\u001b[0m\u001b[0;34m)\u001b[0m\u001b[0;34m:\u001b[0m\u001b[0;34m\u001b[0m\u001b[0m\n\u001b[1;32m     16\u001b[0m     \u001b[0;34m\"\"\"return the loss and gradient.\"\"\"\u001b[0m\u001b[0;34m\u001b[0m\u001b[0m\n\u001b[0;32m---> 17\u001b[0;31m     \u001b[0mloss\u001b[0m \u001b[0;34m=\u001b[0m \u001b[0mcalculate_loss\u001b[0m\u001b[0;34m(\u001b[0m\u001b[0my\u001b[0m\u001b[0;34m,\u001b[0m \u001b[0mtx\u001b[0m\u001b[0;34m,\u001b[0m \u001b[0mw\u001b[0m\u001b[0;34m)\u001b[0m \u001b[0;34m+\u001b[0m \u001b[0mlambda_\u001b[0m \u001b[0;34m*\u001b[0m \u001b[0mnp\u001b[0m\u001b[0;34m.\u001b[0m\u001b[0msqueeze\u001b[0m\u001b[0;34m(\u001b[0m\u001b[0mw\u001b[0m\u001b[0;34m.\u001b[0m\u001b[0mT\u001b[0m\u001b[0;34m.\u001b[0m\u001b[0mdot\u001b[0m\u001b[0;34m(\u001b[0m\u001b[0mw\u001b[0m\u001b[0;34m)\u001b[0m\u001b[0;34m)\u001b[0m\u001b[0;34m\u001b[0m\u001b[0m\n\u001b[0m\u001b[1;32m     18\u001b[0m \u001b[0;34m\u001b[0m\u001b[0m\n\u001b[1;32m     19\u001b[0m     \u001b[0mbatch_size\u001b[0m \u001b[0;34m=\u001b[0m \u001b[0;36m100\u001b[0m\u001b[0;34m\u001b[0m\u001b[0m\n",
      "\u001b[0;32m~/anaconda3/envs/ml/lib/python3.5/site-packages/numpy/core/fromnumeric.py\u001b[0m in \u001b[0;36msqueeze\u001b[0;34m(a, axis)\u001b[0m\n\u001b[1;32m   1196\u001b[0m     \u001b[0;32mtry\u001b[0m\u001b[0;34m:\u001b[0m\u001b[0;34m\u001b[0m\u001b[0m\n\u001b[1;32m   1197\u001b[0m         \u001b[0;31m# First try to use the new axis= parameter\u001b[0m\u001b[0;34m\u001b[0m\u001b[0;34m\u001b[0m\u001b[0m\n\u001b[0;32m-> 1198\u001b[0;31m         \u001b[0;32mreturn\u001b[0m \u001b[0msqueeze\u001b[0m\u001b[0;34m(\u001b[0m\u001b[0maxis\u001b[0m\u001b[0;34m=\u001b[0m\u001b[0maxis\u001b[0m\u001b[0;34m)\u001b[0m\u001b[0;34m\u001b[0m\u001b[0m\n\u001b[0m\u001b[1;32m   1199\u001b[0m     \u001b[0;32mexcept\u001b[0m \u001b[0mTypeError\u001b[0m\u001b[0;34m:\u001b[0m\u001b[0;34m\u001b[0m\u001b[0m\n\u001b[1;32m   1200\u001b[0m         \u001b[0;31m# For backwards compatibility\u001b[0m\u001b[0;34m\u001b[0m\u001b[0;34m\u001b[0m\u001b[0m\n",
      "\u001b[0;31mKeyboardInterrupt\u001b[0m: "
     ]
    }
   ],
   "source": [
    "def sigmoid(t):\n",
    "    \"\"\"apply sigmoid function on t.\"\"\"\n",
    "    return 1/(1+np.exp(-t))\n",
    "\n",
    "def calculate_loss(y, tx, w):\n",
    "    \"\"\"compute the cost by negative log likelihood.\"\"\"\n",
    "    ypred = sigmoid(tx.dot(w))\n",
    "    return -np.sum(y*np.log(ypred) + (1-y)*np.log(1-ypred))\n",
    "\n",
    "def calculate_gradient(y, tx, w):\n",
    "    \"\"\"compute the gradient of loss.\"\"\"\n",
    "    pred = sigmoid(tx.dot(w))\n",
    "    return tx.T.dot(pred-y)\n",
    "\n",
    "def penalized_logistic_regression(y, tx, w, lambda_):\n",
    "    \"\"\"return the loss and gradient.\"\"\"\n",
    "    loss = calculate_loss(y, tx, w) + lambda_ * np.squeeze(w.T.dot(w))\n",
    "    \n",
    "    batch_size = 100\n",
    "    (y_st, tx_st) = [batch for batch in lib._batch_iter(y, tx, batch_size)][0]\n",
    "    grad = calculate_gradient(y_st, tx_st, w) + 2 * lambda_ * w  # Derivate of term\n",
    "    return loss, grad\n",
    "\n",
    "def learning_by_penalized_gradient(y, tx, w, gamma, lambda_):\n",
    "    \"\"\"\n",
    "    Do one step of gradient descent, using the penalized logistic regression.\n",
    "    Return the loss and updated w.\n",
    "    \"\"\"\n",
    "    loss, grad = penalized_logistic_regression(y, tx, w, lambda_)\n",
    "    w -= gamma * grad\n",
    "    return loss, w\n",
    "\n",
    "def logistic_regression_gradient_descent_demo(x, y, x_val, y_val, degrees):\n",
    "    # init parameters\n",
    "    max_iter = 10000\n",
    "    threshold = 1e-8\n",
    "    gamma = 1e-3\n",
    "    \n",
    "    degrees = np.linspace(1,2,2).astype(int)\n",
    "    lambdas = np.logspace(1,7,20)\n",
    "    \n",
    "    acc_train = np.zeros((len(degrees), len(lambdas)))\n",
    "    acc_val = np.zeros((len(degrees), len(lambdas)))\n",
    "    acc_loss = np.zeros((len(degrees), len(lambdas)))\n",
    "    \n",
    "    _y = (y+1)/2\n",
    "    _y_val = (y_val+1)/2\n",
    "\n",
    "    \n",
    "    # Get ploynomial\n",
    "\n",
    "    for i, degree in enumerate(degrees):\n",
    "        \n",
    "        phi_train = lib.build_poly(x, degree)\n",
    "        phi_test = lib.build_poly(x_val, degree)\n",
    "        w = np.zeros((phi_train.shape[1], 1))\n",
    "        \n",
    "        for j, lambda_ in enumerate(lambdas):\n",
    "            losses = []\n",
    "            # start the logistic regression\n",
    "            for iter in range(max_iter):\n",
    "                # get loss and update w.\n",
    "                loss, w = learning_by_penalized_gradient(_y, phi_train, w, gamma, lambda_)\n",
    "                # converge criterion\n",
    "                losses.append(loss)\n",
    "                if len(losses) > 1 and np.abs(losses[-1] - losses[-2]) < threshold:\n",
    "                    break\n",
    "            acc_train[i, j] = lib.accuracy(y, phi_train.dot(w))\n",
    "            acc_val[i, j] = lib.accuracy(y, phi_test.dot(w))\n",
    "            acc_loss[i, j] = losses[-1]\n",
    "            print('validation acc deg={} lam={} loss={}: {:.4f}, {:.4f}'.format(\n",
    "                degree, lambda_, acc_loss[i, j], acc_val[i, j], acc_train[i, j]))\n",
    "\n",
    "    print('validation MAX acc: {:.6f}'.format(np.max(acc_val)))\n",
    "logistic_regression_gradient_descent_demo(x_no_nan, y_train, x_no_nan_val, y_validation, degrees=1)\n"
   ]
  },
  {
   "cell_type": "markdown",
   "metadata": {},
   "source": [
    "## Submission\n"
   ]
  },
  {
   "cell_type": "code",
   "execution_count": null,
   "metadata": {},
   "outputs": [],
   "source": [
    "y_test, x_test, ids_test, header = helper.load_csv_data(DATA_TEST)\n",
    "x_test[x_test == -999] = np.nan\n",
    "\n",
    "x_no_nan_test = x_test.copy()\n",
    "x_no_nan_test = (x_no_nan_test - np.nanmean(x_no_nan_test, axis=0))/np.nanstd(x_no_nan_test, axis=0)\n",
    "x_no_nan_test = np.nan_to_num(x_no_nan_test)\n",
    "print('\\nStd:', np.std(x_no_nan_test, axis=0))\n"
   ]
  },
  {
   "cell_type": "code",
   "execution_count": null,
   "metadata": {},
   "outputs": [],
   "source": [
    "degree_opt = degree_no_nan\n",
    "weights_opt = weights_no_nan\n",
    "\n",
    "_phi_test = lib.build_poly(x_no_nan_test, degree_opt)\n",
    "y_pred = helper.predict_labels(weights_opt, _phi_test)\n",
    "\n",
    "\n"
   ]
  },
  {
   "cell_type": "code",
   "execution_count": null,
   "metadata": {},
   "outputs": [],
   "source": [
    "helper.create_csv_submission(ids_test, y_pred, 'ridge_no_nan1.csv')\n",
    "print('Results saved ...')"
   ]
  },
  {
   "cell_type": "code",
   "execution_count": null,
   "metadata": {},
   "outputs": [],
   "source": []
  }
 ],
 "metadata": {
  "kernelspec": {
   "display_name": "Python [conda env:ml]",
   "language": "python",
   "name": "conda-env-ml-py"
  },
  "language_info": {
   "codemirror_mode": {
    "name": "ipython",
    "version": 3
   },
   "file_extension": ".py",
   "mimetype": "text/x-python",
   "name": "python",
   "nbconvert_exporter": "python",
   "pygments_lexer": "ipython3",
   "version": "3.5.4"
  }
 },
 "nbformat": 4,
 "nbformat_minor": 1
}
