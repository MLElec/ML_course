{
 "cells": [
  {
   "cell_type": "code",
   "execution_count": 22,
   "metadata": {},
   "outputs": [
    {
     "name": "stdout",
     "output_type": "stream",
     "text": [
      "The autoreload extension is already loaded. To reload it, use:\n",
      "  %reload_ext autoreload\n"
     ]
    }
   ],
   "source": [
    "import os\n",
    "import matplotlib.pyplot as plt\n",
    "import numpy as np\n",
    "import scripts.implementations as lib  # Add personal library\n",
    "import scripts.proj1_helpers as helper  # Add personal library\n",
    "\n",
    "%matplotlib inline\n",
    "%load_ext autoreload\n",
    "%autoreload 2\n",
    "np.set_printoptions(precision=4)\n",
    "\n",
    "DATA_FOLDER = 'data'\n",
    "DATA_TRAIN = os.path.join(DATA_FOLDER, 'train.csv')\n",
    "DATA_TEST = os.path.join(DATA_FOLDER, 'test.csv')\n",
    "\n",
    "y, x, ids, header = helper.load_csv_data(DATA_TRAIN)\n",
    "y_train, x_train, y_validation, x_validation = lib.sep_valid_train_data(x, y, 0.8);"
   ]
  },
  {
   "cell_type": "code",
   "execution_count": 23,
   "metadata": {},
   "outputs": [],
   "source": [
    "x_train[x_train == -999] = np.nan\n",
    "x_validation[x_validation == -999] = np.nan"
   ]
  },
  {
   "cell_type": "code",
   "execution_count": 71,
   "metadata": {},
   "outputs": [
    {
     "name": "stdout",
     "output_type": "stream",
     "text": [
      "['DER_mass_transverse_met_lep' 'DER_mass_vis' 'DER_pt_h'\n",
      " 'DER_deltar_tau_lep' 'DER_pt_tot' 'DER_sum_pt' 'DER_pt_ratio_lep_tau'\n",
      " 'DER_met_phi_centrality' 'PRI_tau_pt' 'PRI_tau_eta' 'PRI_tau_phi'\n",
      " 'PRI_lep_pt' 'PRI_lep_eta' 'PRI_lep_phi' 'PRI_met' 'PRI_met_phi'\n",
      " 'PRI_met_sumet' 'PRI_jet_num' 'PRI_jet_all_pt']\n"
     ]
    }
   ],
   "source": [
    "# Remove features with NaN\n",
    "keep_id = np.nonzero(np.sum(np.isnan(x_train), axis=0) == 0)[0]\n",
    "x_naive = x_train[:, keep_id]\n",
    "head_naive = header[keep_id]\n",
    "# normalize features\n",
    "x_naive = (x_naive - np.mean(x_naive, axis=0))/np.std(x_naive, axis=0)\n",
    "print(head_naive)"
   ]
  },
  {
   "cell_type": "code",
   "execution_count": 63,
   "metadata": {},
   "outputs": [
    {
     "name": "stdout",
     "output_type": "stream",
     "text": [
      "1/6 Least square deg 1 with acc 0.7332\n",
      "2/6 Least square deg 2 with acc 0.7545\n",
      "3/6 Least square deg 3 with acc 0.7610\n",
      "4/6 Least square deg 4 with acc 0.7484\n",
      "5/6 Least square deg 5 with acc 0.7592\n",
      "6/6 Least square deg 6 with acc 0.7044\n"
     ]
    }
   ],
   "source": [
    "from scripts.ml import cross_validation_ls\n",
    "\n",
    "degrees = np.linspace(1, 6, 6).astype(int)\n",
    "for i, degree in enumerate(degrees):\n",
    "    acc, _, _ = cross_validation_ls(y_train, x_naive, degree=degree)\n",
    "    print('{}/{} Least square deg {} with acc {:.4f}'.format(i+1, len(degrees), degree, acc))"
   ]
  },
  {
   "cell_type": "code",
   "execution_count": 54,
   "metadata": {},
   "outputs": [],
   "source": [
    "from scripts.ml import build_poly, least_squares\n",
    "\n",
    "# Build polynomial matrix\n",
    "_phi_train = build_poly(x_naive, 3)\n",
    "loss_tr, weights = least_squares(y_train, _phi_train)"
   ]
  },
  {
   "cell_type": "code",
   "execution_count": 68,
   "metadata": {},
   "outputs": [
    {
     "name": "stdout",
     "output_type": "stream",
     "text": [
      "10\n"
     ]
    }
   ],
   "source": [
    "weights[0:len(header)]\n",
    "w = weights[1:].reshape((-1, x_naive.shape[1]))\n",
    "print(np.sum(np.max(np.abs(w), axis=0) > 0.1))"
   ]
  },
  {
   "cell_type": "code",
   "execution_count": 69,
   "metadata": {},
   "outputs": [
    {
     "data": {
      "text/plain": [
       "array(['DER_mass_transverse_met_lep', 'DER_mass_vis', 'DER_pt_h',\n",
       "       'DER_deltar_tau_lep', 'DER_sum_pt', 'DER_pt_ratio_lep_tau',\n",
       "       'PRI_tau_pt', 'PRI_lep_pt', 'PRI_jet_num', 'PRI_jet_all_pt'],\n",
       "      dtype='<U27')"
      ]
     },
     "execution_count": 69,
     "metadata": {},
     "output_type": "execute_result"
    }
   ],
   "source": [
    "feat_keep = np.max(np.abs(w), axis=0) > 0.1\n",
    "head_naive[feat_keep]"
   ]
  },
  {
   "cell_type": "code",
   "execution_count": 70,
   "metadata": {},
   "outputs": [
    {
     "name": "stdout",
     "output_type": "stream",
     "text": [
      "1/6 Least square deg 1 with acc 0.7355\n",
      "2/6 Least square deg 2 with acc 0.7479\n",
      "3/6 Least square deg 3 with acc 0.7544\n",
      "4/6 Least square deg 4 with acc 0.7534\n",
      "5/6 Least square deg 5 with acc 0.7553\n",
      "6/6 Least square deg 6 with acc 0.7295\n"
     ]
    }
   ],
   "source": [
    "from scripts.ml import build_poly, least_squares\n",
    "\n",
    "degrees = np.linspace(1, 6, 6).astype(int)\n",
    "for i, degree in enumerate(degrees):\n",
    "    acc, _, _ = cross_validation_ls(y_train, x_naive[:, feat_keep], degree=degree)\n",
    "    print('{}/{} Least square deg {} with acc {:.4f}'.format(i+1, len(degrees), degree, acc))"
   ]
  },
  {
   "cell_type": "code",
   "execution_count": 90,
   "metadata": {},
   "outputs": [
    {
     "name": "stdout",
     "output_type": "stream",
     "text": [
      "1/6 Least square deg 1 with acc 0.7357\n",
      "2/6 Least square deg 2 with acc 0.6631\n",
      "3/6 Least square deg 3 with acc 0.6215\n",
      "4/6 Least square deg 4 with acc 0.5946\n",
      "5/6 Least square deg 5 with acc 0.6269\n",
      "6/6 Least square deg 6 with acc 0.5415\n"
     ]
    }
   ],
   "source": [
    "from scripts.ml import augmented_feat_angle\n",
    "\n",
    "id_angle_feat = np.array([10, 13, 15])\n",
    "x_aug = augmented_feat_angle(x_naive, id_angle_feat)\n",
    "\n",
    "x_naive_aug = np.concatenate((x_naive[:, feat_keep], x_aug), axis=1)\n",
    "\n",
    "\n",
    "# normalize features\n",
    "#x_aug = (x_aug - np.nanmean(x_aug, axis=0))/np.nanstd(x_aug, axis=0)\n",
    "#x_aug = np.nan_to_num(x_aug)\n",
    "#print('\\nStd:', np.std(x_aug, axis=0))\n",
    "\n",
    "#print(np.max(x_train[:, 15]))\n",
    "\n",
    "x_naive_aug = (x_naive_aug - np.mean(x_naive_aug, axis=0))/np.std(x_naive_aug, axis=0)\n",
    "\n",
    "\n",
    "degrees = np.linspace(1, 6, 6).astype(int)\n",
    "for i, degree in enumerate(degrees):\n",
    "    acc, _, _ = cross_validation_ls(y_train, x_naive_aug, degree=degree)\n",
    "    print('{}/{} Least square deg {} with acc {:.4f}'.format(i+1, len(degrees), degree, acc))"
   ]
  },
  {
   "cell_type": "code",
   "execution_count": 77,
   "metadata": {},
   "outputs": [
    {
     "name": "stdout",
     "output_type": "stream",
     "text": [
      "['PRI_tau_phi' 'PRI_lep_phi' 'PRI_met_phi']\n"
     ]
    }
   ],
   "source": [
    "print(head_naive[[10, 13, 15]])"
   ]
  },
  {
   "cell_type": "code",
   "execution_count": null,
   "metadata": {},
   "outputs": [],
   "source": []
  }
 ],
 "metadata": {
  "kernelspec": {
   "display_name": "Python [conda env:ml]",
   "language": "python",
   "name": "conda-env-ml-py"
  },
  "language_info": {
   "codemirror_mode": {
    "name": "ipython",
    "version": 3
   },
   "file_extension": ".py",
   "mimetype": "text/x-python",
   "name": "python",
   "nbconvert_exporter": "python",
   "pygments_lexer": "ipython3",
   "version": "3.5.4"
  }
 },
 "nbformat": 4,
 "nbformat_minor": 2
}
