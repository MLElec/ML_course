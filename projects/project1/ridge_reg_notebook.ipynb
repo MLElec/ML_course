{
 "cells": [
  {
   "cell_type": "code",
   "execution_count": 22,
   "metadata": {},
   "outputs": [
    {
     "name": "stdout",
     "output_type": "stream",
     "text": [
      "The autoreload extension is already loaded. To reload it, use:\n",
      "  %reload_ext autoreload\n",
      "(200000,)\n"
     ]
    }
   ],
   "source": [
    "##Ridge regression \n",
    "\n",
    "import os\n",
    "import matplotlib.pyplot as plt\n",
    "import numpy as np\n",
    "import scripts.implementations as lib  # Add personal library\n",
    "import scripts.proj1_helpers as helper  # Add personal library\n",
    "import scripts.ml as ml  # Add personal library\n",
    "\n",
    "%matplotlib inline\n",
    "%load_ext autoreload\n",
    "%autoreload 2\n",
    "np.set_printoptions(precision=4)\n",
    "\n",
    "DATA_FOLDER = 'data'\n",
    "DATA_TRAIN = os.path.join(DATA_FOLDER, 'train.csv')\n",
    "DATA_TEST = os.path.join(DATA_FOLDER, 'test.csv')\n",
    "\n",
    "y, x, ids, header = helper.load_csv_data(DATA_TRAIN)\n",
    "y_train, x_train,  y_validation, x_validation = lib.sep_valid_train_data(x,y, 0.8);\n",
    "print(y_train.shape)"
   ]
  },
  {
   "cell_type": "code",
   "execution_count": 23,
   "metadata": {},
   "outputs": [],
   "source": [
    "x_train[x_train == -999] = np.nan\n",
    "x_validation[x_validation == -999] = np.nan"
   ]
  },
  {
   "cell_type": "code",
   "execution_count": 24,
   "metadata": {},
   "outputs": [
    {
     "name": "stdout",
     "output_type": "stream",
     "text": [
      "Feature 1 - DER_mass_MMC has range: [9.0440, 1192.0260]\n",
      "Feature 2 - DER_mass_transverse_met_lep has range: [0.0000, 595.8190]\n",
      "Feature 3 - DER_mass_vis has range: [6.4620, 1329.9130]\n",
      "Feature 4 - DER_pt_h has range: [0.0000, 1053.8070]\n",
      "Feature 5 - DER_deltaeta_jet_jet has range: [0.0000, 8.5030]\n",
      "Feature 6 - DER_mass_jet_jet has range: [13.6020, 4974.9790]\n",
      "Feature 7 - DER_prodeta_jet_jet has range: [-18.0660, 16.6900]\n",
      "Feature 8 - DER_deltar_tau_lep has range: [0.2080, 5.6840]\n",
      "Feature 9 - DER_pt_tot has range: [0.0000, 513.6590]\n",
      "Feature 10 - DER_sum_pt has range: [46.1040, 1852.4620]\n",
      "Feature 11 - DER_pt_ratio_lep_tau has range: [0.0470, 19.7730]\n",
      "Feature 12 - DER_met_phi_centrality has range: [-1.4140, 1.4140]\n",
      "Feature 13 - DER_lep_eta_centrality has range: [0.0000, 1.0000]\n",
      "Feature 14 - PRI_tau_pt has range: [20.0000, 622.8620]\n",
      "Feature 15 - PRI_tau_eta has range: [-2.4990, 2.4970]\n",
      "Feature 16 - PRI_tau_phi has range: [-3.1420, 3.1420]\n",
      "Feature 17 - PRI_lep_pt has range: [26.0000, 461.8960]\n",
      "Feature 18 - PRI_lep_eta has range: [-2.5050, 2.5020]\n",
      "Feature 19 - PRI_lep_phi has range: [-3.1420, 3.1420]\n",
      "Feature 20 - PRI_met has range: [0.1090, 951.3630]\n",
      "Feature 21 - PRI_met_phi has range: [-3.1420, 3.1420]\n",
      "Feature 22 - PRI_met_sumet has range: [13.6780, 2003.9760]\n",
      "Feature 23 - PRI_jet_num has range: [0.0000, 3.0000]\n",
      "Feature 24 - PRI_jet_leading_pt has range: [30.0000, 1120.5730]\n",
      "Feature 25 - PRI_jet_leading_eta has range: [-4.4990, 4.4990]\n",
      "Feature 26 - PRI_jet_leading_phi has range: [-3.1420, 3.1410]\n",
      "Feature 27 - PRI_jet_subleading_pt has range: [30.0010, 721.4560]\n",
      "Feature 28 - PRI_jet_subleading_eta has range: [-4.5000, 4.5000]\n",
      "Feature 29 - PRI_jet_subleading_phi has range: [-3.1420, 3.1420]\n",
      "Feature 30 - PRI_jet_all_pt has range: [0.0000, 1633.4330]\n"
     ]
    }
   ],
   "source": [
    "for i, feature in enumerate(x_train.T):\n",
    "    print('Feature {} - {} has range: [{:.4f}, {:.4f}]'.format(\n",
    "        i+1, header[i], np.nanmin(feature), np.nanmax(feature)))"
   ]
  },
  {
   "cell_type": "code",
   "execution_count": null,
   "metadata": {
    "scrolled": false
   },
   "outputs": [],
   "source": [
    "plt.figure(figsize=(16,60))\n",
    "\n",
    "for i, feature in enumerate(x_train.T):\n",
    "    plt.subplot(15, 2, i+1)\n",
    "    id_keep = ~np.isnan(feature)\n",
    "    id_b = np.logical_and(y_train == -1, id_keep)\n",
    "    id_s = np.logical_and(y_train == 1, id_keep)\n",
    "    plt.hist(feature[id_keep], bins=100, alpha=0.4, label='total')\n",
    "    plt.hist(feature[id_b], alpha=0.4, bins=100, label='back')\n",
    "    plt.hist(feature[id_s], alpha=0.4, bins=100, label='signal')\n",
    "    plt.title('Feature {} - {}'.format(i+1, header[i]))\n",
    "    plt.legend()\n",
    "plt.tight_layout()"
   ]
  },
  {
   "cell_type": "code",
   "execution_count": null,
   "metadata": {},
   "outputs": [],
   "source": [
    "plt.figure(figsize=(16,24))\n",
    "\n",
    "for i, feature in enumerate(x_train.T):\n",
    "    plt.subplot(10, 3, i+1)\n",
    "    id_keep = ~np.isnan(feature)\n",
    "    id_b = np.logical_and(y_train == -1, id_keep)\n",
    "    id_s = np.logical_and(y_train == 1, id_keep)\n",
    "    plt.boxplot([feature[id_keep], feature[id_b], feature[id_s]], whis=2.5, \n",
    "                vert=False, labels=['total', 'back', 'signal'])\n",
    "    plt.title('Feature {} - {}'.format(i+1, header[i]))\n",
    "\n",
    "plt.tight_layout()"
   ]
  },
  {
   "cell_type": "code",
   "execution_count": 25,
   "metadata": {},
   "outputs": [],
   "source": [
    "def plot_train_test(train_errors, test_errors, lambdas, degree):\n",
    "    \"\"\"\n",
    "    train_errors, test_errors and lambas should be list (of the same size) the respective train error and test error for a given lambda,\n",
    "    * lambda[0] = 1\n",
    "    * train_errors[0] = RMSE of a ridge regression on the train set\n",
    "    * test_errors[0] = RMSE of the parameter found by ridge regression applied on the test set\n",
    "    \n",
    "    degree is just used for the title of the plot.\n",
    "    \"\"\"\n",
    "    plt.semilogx(lambdas, train_errors, color='b', marker='*', label=\"Train error\")\n",
    "    plt.semilogx(lambdas, test_errors, color='r', marker='*', label=\"Test error\")\n",
    "    plt.xlabel(\"lambda\")\n",
    "    plt.ylabel(\"RMSE\")\n",
    "    plt.title(\"Ridge regression for polynomial degree \" + str(degree))\n",
    "    leg = plt.legend(loc=1, shadow=True)\n",
    "    leg.draw_frame(False)\n",
    "    plt.savefig(\"ridge_regression\")\n",
    "    \n",
    "def test_ridge_regression(x, y, x_val, y_val, degrees, lambdas):\n",
    "    \n",
    "    best_acc = 0\n",
    "    best_degree = 0\n",
    "    best_lambda = 0\n",
    "    best_rmse_tr = []\n",
    "    best_rmse_te = []\n",
    "    best_weights = []\n",
    "    for degree in degrees:\n",
    "        degree = int(degree)\n",
    "        #lambdas = np.logspace(-7, 2, 20)\n",
    "\n",
    "        # Split sets\n",
    "        #x_train, x_test, y_train, y_test = split_data(x, y, ratio, seed)\n",
    "\n",
    "        # Get ploynomial\n",
    "        phi_train = lib.build_poly(x, degree)\n",
    "        phi_test = lib.build_poly(x_val, degree)\n",
    "\n",
    "        rmse_tr = []\n",
    "        rmse_te = []\n",
    "        update_rmse = False\n",
    "\n",
    "        for ind, lambda_ in enumerate(lambdas):\n",
    "\n",
    "            mse_tr, weights = lib.ridge_regression(y, phi_train, lambda_)\n",
    "            mse_te = lib.compute_loss(y_val, phi_test.dot(weights))\n",
    "            rmse_tr.append(np.sqrt(2*mse_tr))\n",
    "            rmse_te.append(np.sqrt(2*mse_te))\n",
    "\n",
    "            print(\"degree={d}, lambda={l:.3f}, Training RMSE={tr:.3f}, Testing RMSE={te:.3f}\".format(\n",
    "                    d=degree, l=lambda_, tr=rmse_tr[ind], te=rmse_te[ind]))\n",
    "            print('train acc : ', lib.accuracy(y, phi_train.dot(weights)))\n",
    "            val_acc = lib.accuracy(y_val, phi_test.dot(weights))\n",
    "            print('validation acc : ', val_acc)\n",
    "\n",
    "            if(val_acc > best_acc):\n",
    "                best_acc = val_acc\n",
    "                best_degree = degree\n",
    "                best_lambda = lambda_\n",
    "                best_weights = weights\n",
    "                update_rmse = True\n",
    "        \n",
    "        if(update_rmse):\n",
    "            best_rmse_tr = rmse_tr\n",
    "            best_rmse_te = rmse_te\n",
    "\n",
    "        # Plot the best obtained results\n",
    "    plot_train_test(best_rmse_tr, best_rmse_te, lambdas, best_degree)\n",
    "\n",
    "    print('Best params for Ridge regression : degree = ',best_degree, ', lambda = ',best_lambda,', accuracy = ', best_acc)\n",
    "    \n",
    "    return best_weights, best_degree, best_lambda"
   ]
  },
  {
   "cell_type": "markdown",
   "metadata": {},
   "source": [
    "## Ridge with no_nan\n"
   ]
  },
  {
   "cell_type": "code",
   "execution_count": 54,
   "metadata": {},
   "outputs": [],
   "source": [
    "#distrib = [ 'p', 'i', 'p', 'p', 'i', 'p', 'g', 'g', 'p', 'p',\n",
    "#            'p', 'u', 'u', 'i', 'g', 'f', 'i', 'g', 'f', 'p',\n",
    "#            'f', 'p', 'd', 'i', 'g', 'f', 'i', 'g', 'f', 'p']\n",
    "\n",
    "def norm_poisson(feature, perc_threshold=0.01):\n",
    "    length = feature.shape[0];\n",
    "    idx_val = np.int(np.ceil(length*perc_threshold))\n",
    "    maxval = np.sort(feature)[-idx_val]\n",
    "    \n",
    "    #idx_outliers = np.argsort(feature)[-idx_val:]\n",
    "    #maxval = feature[np.argsort(feature)[ -(idx_val+1) ]]\n",
    "    \n",
    "    mean = np.nanmean(feature[feature < maxval])\n",
    "    std = np.nanstd(feature[feature < maxval])\n",
    "    feature[feature > maxval] = maxval\n",
    "    feature -= mean\n",
    "    feature /= std\n",
    "    return feature, mean, std, maxval\n",
    "\n",
    "def norm_poisson_feed(feature, mean_ref, std_ref, maxval):    \n",
    "    feature[feature > maxval] = maxval\n",
    "    feature -= mean_ref\n",
    "    feature /= std_ref\n",
    "    return feature\n",
    "\n",
    "def norm_gaussian(feature, n_std=2.5):\n",
    "    \n",
    "    feat_cent = feature-np.nanmean(feature)\n",
    "    std_thresh = np.nanstd(feat_cent, axis=0)\n",
    "    maxval = n_std*std_thresh\n",
    "    \n",
    "    mean_update = np.nanmean(feature[np.abs(feat_cent) < maxval])\n",
    "    std_update = np.nanstd(feature[np.abs(feat_cent) < maxval])\n",
    "    feat_final = feature-mean_update\n",
    "    feat_final[feat_final > maxval] = maxval\n",
    "    feat_final[feat_final < -maxval] = -maxval\n",
    "    feat_final /= std_update\n",
    "    \n",
    "    #feature[feature > maxval] = maxval\n",
    "    #feature[feature < -maxval] = -maxval\n",
    "    \n",
    "    #mean_update = np.nanmean(feature)\n",
    "    #std_update = np.nanstd(feature)\n",
    "    #feature = (feature-mean_update)/std_update\n",
    "        \n",
    "    #return feature, mean_update, std_update, maxval\n",
    "\n",
    "    return feat_final, mean_update, std_update, maxval\n",
    "\n",
    "def norm_gaussian_feed(feature, mean_ref, std_ref, maxval):    \n",
    "    feat_final = feature - mean_ref\n",
    "    feat_final[feat_final > maxval]  = maxval\n",
    "    feat_final[feat_final < -maxval] = -maxval\n",
    "    feat_final /= std_ref\n",
    "    return feat_final\n",
    "\n",
    "def normalize_outliers(x_in, dist_type):\n",
    "    # 1. Substract mean\n",
    "    # 2. Compute std and detect ouliers\n",
    "    # 3. Compute std and mean witout ouliers\n",
    "    mean_corr = []\n",
    "    std_corr = []\n",
    "    max_val_corr = []\n",
    "                \n",
    "    for i, feat in enumerate(x_in.T):\n",
    "        # Normalize according to distribution\n",
    "        if dist_type[i] == 'g' or dist_type[i] == 'i' or dist_type[i] == 'u' \\\n",
    "                or dist_type[i] == 'f' or dist_type[i] == 'd':\n",
    "            feat_new, mean_new, std_new, max_val_new = norm_gaussian(feat)\n",
    "        elif dist_type[i] == 'p':\n",
    "            feat_new, mean_new, std_new, max_val_new = norm_poisson(feat)\n",
    "        else:\n",
    "            feat_new, mean_new, std_new, max_val_new = (feat, 0, 1, np.inf)\n",
    "        # Affect new values\n",
    "        mean_corr.append(mean_new)\n",
    "        std_corr.append(std_new)\n",
    "        max_val_corr.append(max_val_new)\n",
    "        x_in[:, i] = feat_new\n",
    "    return x_in, mean_corr, std_corr, max_val_corr\n",
    "\n",
    "def normalize_outliers_feed(x_in, mean_ref, std_ref, max_ref, dist_type):\n",
    "    # 1. Substract mean\n",
    "    # 2. Compute std and detect ouliers\n",
    "    # 3. Compute std and mean witout ouliers\n",
    "    \n",
    "    for i, feat in enumerate(x_in.T):\n",
    "        # Normalize according to distribution\n",
    "        if dist_type[i] == 'g' or dist_type[i] == 'i' or dist_type[i] == 'u' \\\n",
    "                or dist_type[i] == 'f' or dist_type[i] == 'd':\n",
    "            feat_new = norm_gaussian_feed(feat, mean_ref[i], std_ref[i], max_ref[i])\n",
    "        elif dist_type[i] == 'p':\n",
    "            feat_new = norm_poisson_feed(feat, mean_ref[i], std_ref[i], max_ref[i])\n",
    "        else:\n",
    "            feat_new = feat\n",
    "        # Affect new value\n",
    "        x_in[:, i] = feat_new\n",
    "    return x_in\n",
    "\n",
    "def add_feature(x_in, id_feat1, id_feat2):\n",
    "    new_feat = np.expand_dims(x_in[:, id_feat1]*x_in[:, id_feat2], axis=1)\n",
    "    return np.concatenate((x_in, new_feat), axis=1)\n",
    "\n",
    "def add_features(x_in, id_feats):\n",
    "    for id_feat in id_feats:\n",
    "        x_in = add_feature(x_in, id_feat[0], id_feat[1])\n",
    "    return x_in\n",
    "\n",
    "### UNUSED \n",
    "def remove_useless(x_in, id_useless=[15, 18, 20, 25, 28]):\n",
    "    id_left = [ i for i in range(x_in.shape[1]) if i not in id_useless]\n",
    "    return x_in[:, id_left]\n",
    "\n",
    "def recenter_feature(feature):\n",
    "    val_max = np.nanmax(feature)\n",
    "    val_min = np.nanmin(feature)\n",
    "    feature[feature < np.nanmean(feature)] += (val_max - val_min)\n",
    "    return feature\n",
    "### UNUSED "
   ]
  },
  {
   "cell_type": "code",
   "execution_count": 55,
   "metadata": {},
   "outputs": [
    {
     "name": "stderr",
     "output_type": "stream",
     "text": [
      "/home/abbet/anaconda3/envs/ml/lib/python3.5/site-packages/ipykernel/__main__.py:32: RuntimeWarning: invalid value encountered in less\n",
      "/home/abbet/anaconda3/envs/ml/lib/python3.5/site-packages/ipykernel/__main__.py:33: RuntimeWarning: invalid value encountered in less\n",
      "/home/abbet/anaconda3/envs/ml/lib/python3.5/site-packages/ipykernel/__main__.py:35: RuntimeWarning: invalid value encountered in greater\n",
      "/home/abbet/anaconda3/envs/ml/lib/python3.5/site-packages/ipykernel/__main__.py:36: RuntimeWarning: invalid value encountered in less\n"
     ]
    },
    {
     "name": "stdout",
     "output_type": "stream",
     "text": [
      "\n",
      "Std: [ 1.074   1.0408  1.1532  1.1364  0.5519  0.6304  0.5907  1.0192  1.1146\n",
      "  1.1341  1.1064  1.      0.5399  1.1454  1.      1.1456  1.      1.1392\n",
      "  1.1057  1.      0.89    0.7758  0.6201  0.5399  1.1287  1.      1.      1.\n",
      "  0.7753  0.5399  1.      1.      1.      0.7753  0.5399  1.      1.      1.\n",
      "  1.0366  0.587   1.0436  0.5493  1.      1.0006  0.5589  0.5653  0.5932\n",
      "  1.0003  1.0565  1.1073  1.      1.0791  0.5907  1.0823  0.9597  1.0689\n",
      "  0.59    0.5514  1.0475  0.572   0.606   0.5444  1.0413  1.0791  1.0014\n",
      "  0.5399  0.5878  1.0917  1.0436  0.6118  0.5923  1.0661  0.6012  0.5752\n",
      "  0.5796] \n",
      "n_feat 75\n",
      "\n",
      "Std: [ 1.0809  1.0384  1.1548  1.134   0.5455  0.6189  0.5829  1.0176  1.106\n",
      "  1.1246  1.1044  1.0038  0.5337  1.1372  1.0017  1.1371  1.0049  1.1418\n",
      "  1.103   0.9936  0.8915  0.7739  0.6114  0.5313  1.1198  1.0002  0.9983\n",
      "  0.9979  0.7729  0.5312  0.9998  1.0017  1.0021  0.7734  0.5365  0.9993\n",
      "  1.0014  0.9934  1.0368  0.5769  1.0485  0.5396  1.0019  1.009   0.5531\n",
      "  0.557   0.5846  1.0066  1.0561  1.0976  0.9951  1.0809  0.5829  1.0742\n",
      "  0.9645  1.0647  0.5826  0.5512  1.0471  0.5661  0.5967  0.5403  1.0385\n",
      "  1.0747  1.0016  0.5329  0.5813  1.0816  1.0496  0.6188  0.5797  1.0659\n",
      "  0.6016  0.5704  0.575 ] \n",
      "n_feat 75\n"
     ]
    },
    {
     "name": "stderr",
     "output_type": "stream",
     "text": [
      "/home/abbet/anaconda3/envs/ml/lib/python3.5/site-packages/ipykernel/__main__.py:52: RuntimeWarning: invalid value encountered in greater\n",
      "/home/abbet/anaconda3/envs/ml/lib/python3.5/site-packages/ipykernel/__main__.py:53: RuntimeWarning: invalid value encountered in less\n"
     ]
    }
   ],
   "source": [
    "id_angle = [15, 18, 20, 25, 28]\n",
    "id_nan = [0, 24, 27]\n",
    "\n",
    "new_feats = [[ 1,  7], [ 3,  7], [ 4,  7], [ 4, 22], [ 4, 26], [11,  0], [11,  2], \n",
    "             [11,  7], [11,  9], [11, 13], [11, 16], [11, 19], [11, 21], [11, 22],\n",
    "             [12,  0], [12,  2], [12,  7], [12,  9], [12, 16], [12, 21], [12, 22],\n",
    "             [12, 26]]\n",
    "\n",
    "new_feats = [(11, 16), (4, 7), (4, 41), (10, 11), (29, 40), (11, 40), (7, 12), (18, 37), (6, 42),\n",
    "             (36, 37), (4, 22), (2, 12), (12, 16), (1, 42), (3, 7), (7, 11), (22, 40), (7, 29),\n",
    "             (11, 19), (31, 32), (12, 40), (4, 42), (24, 27), (11, 22), (0, 11), (9, 11), (9, 12),\n",
    "             (6, 22), (0, 4), (12, 41), (11, 13), (12, 21), (5, 42), (6, 40), (4, 16), (0, 12),\n",
    "             (11, 21), (12, 42), (7, 22), (20, 36), (12, 22), (5, 41), (6, 41), (23, 42), (4, 40),\n",
    "             (12, 26), (7, 13), (2, 11), (12, 19), (4, 26), (1, 7), (12, 23), (2, 4), (5, 40)]\n",
    "\n",
    "new_feats = [(11, 16), (4, 7), (4, 41), (29, 40), (11, 40), (7, 12), (36, 37), (4, 22), (2, 12),\n",
    "             (12, 16), (1, 42), (7, 11), (3, 7), (22, 40), (31, 32), (11, 19), (12, 40), (4, 42),\n",
    "             (11, 22), (0, 11), (9, 11), (0, 4), (12, 41), (11, 13), (12, 21), (0, 12), (11, 21),\n",
    "             (12, 42), (7, 22), (12, 22), (23, 42), (4, 40), (12, 26), (2, 11), (4, 26), (1, 7),\n",
    "             (9, 12)]\n",
    "\n",
    "new_feats = [(11, 16), (4, 7), (10, 11), (7, 12), (36, 37), (18, 37), (4, 22), (2, 12),\n",
    "             (12, 16), (7, 11), (3, 7), (7, 29), (31, 32), (11, 19), (24, 27), (11, 22), \n",
    "             (0, 11), (9, 11), (6, 22), (0, 4), (11, 13), (12, 21), (4, 16), (0, 12), \n",
    "             (11, 21), (7, 22), (20, 36), (12, 22), (12, 26), (7, 13), (2, 11), (12, 19), \n",
    "             (4, 26), (1, 7), (12, 23), (2, 4), (9, 12)]\n",
    "\n",
    "x_no_nan = x_train.copy()\n",
    "x_no_nan, _ = ml.augmented_feat_angle(x_no_nan, id_angle, header)\n",
    "x_no_nan, _ = ml.add_nan_feature(x_no_nan, id_nan, header)\n",
    "x_no_nan = add_features(x_no_nan, new_feats)\n",
    "x_no_nan = remove_useless(x_no_nan, id_useless=id_angle)\n",
    "distrib = ['g']*(x_no_nan.shape[1])\n",
    "x_no_nan, mean_train, std_train, max_train = normalize_outliers(x_no_nan, distrib)\n",
    "x_no_nan = np.nan_to_num(x_no_nan)\n",
    "print('\\nStd:', np.std(x_no_nan, axis=0), '\\nn_feat', x_no_nan.shape[1])\n",
    "\n",
    "# normalize features\n",
    "x_no_nan_val = x_validation.copy()\n",
    "x_no_nan_val, _ = ml.augmented_feat_angle(x_no_nan_val, id_angle, header)\n",
    "x_no_nan_val, _ = ml.add_nan_feature(x_no_nan_val, id_nan, header)\n",
    "x_no_nan_val = add_features(x_no_nan_val, new_feats)\n",
    "x_no_nan_val = remove_useless(x_no_nan_val, id_useless=id_angle)\n",
    "x_no_nan_val = normalize_outliers_feed(x_no_nan_val, mean_train, std_train, max_train, distrib)\n",
    "x_no_nan_val = np.nan_to_num(x_no_nan_val)\n",
    "print('\\nStd:', np.std(x_no_nan_val, axis=0), '\\nn_feat', x_no_nan_val.shape[1])"
   ]
  },
  {
   "cell_type": "code",
   "execution_count": 57,
   "metadata": {
    "scrolled": true
   },
   "outputs": [
    {
     "name": "stdout",
     "output_type": "stream",
     "text": [
      "degree=10, lambda=0.000, Training RMSE=11.867, Testing RMSE=11.791\n",
      "train acc :  0.517665\n",
      "validation acc :  0.51686\n",
      "degree=10, lambda=0.000, Training RMSE=2.706, Testing RMSE=2.711\n",
      "train acc :  0.56642\n",
      "validation acc :  0.56698\n",
      "degree=10, lambda=0.000, Training RMSE=2.893, Testing RMSE=2.875\n",
      "train acc :  0.549925\n",
      "validation acc :  0.55218\n",
      "degree=10, lambda=0.000, Training RMSE=1.013, Testing RMSE=1.013\n",
      "train acc :  0.73388\n",
      "validation acc :  0.73406\n",
      "degree=10, lambda=0.000, Training RMSE=13.121, Testing RMSE=13.129\n",
      "train acc :  0.515055\n",
      "validation acc :  0.51296\n",
      "degree=10, lambda=0.000, Training RMSE=1.444, Testing RMSE=1.446\n",
      "train acc :  0.61482\n",
      "validation acc :  0.61498\n",
      "degree=10, lambda=0.000, Training RMSE=0.886, Testing RMSE=0.884\n",
      "train acc :  0.757935\n",
      "validation acc :  0.75832\n",
      "degree=10, lambda=0.000, Training RMSE=0.739, Testing RMSE=0.740\n",
      "train acc :  0.821145\n",
      "validation acc :  0.82062\n",
      "degree=10, lambda=0.000, Training RMSE=0.705, Testing RMSE=0.706\n",
      "train acc :  0.83167\n",
      "validation acc :  0.83224\n",
      "degree=10, lambda=0.000, Training RMSE=0.703, Testing RMSE=0.705\n",
      "train acc :  0.83274\n",
      "validation acc :  0.83314\n",
      "degree=10, lambda=0.000, Training RMSE=0.703, Testing RMSE=0.704\n",
      "train acc :  0.832615\n",
      "validation acc :  0.8333\n",
      "degree=10, lambda=0.000, Training RMSE=0.703, Testing RMSE=0.704\n",
      "train acc :  0.83251\n",
      "validation acc :  0.83312\n",
      "degree=10, lambda=0.000, Training RMSE=0.703, Testing RMSE=0.704\n",
      "train acc :  0.832555\n",
      "validation acc :  0.83308\n",
      "degree=10, lambda=0.000, Training RMSE=0.703, Testing RMSE=0.704\n",
      "train acc :  0.832585\n",
      "validation acc :  0.83338\n",
      "degree=10, lambda=0.000, Training RMSE=0.703, Testing RMSE=0.704\n",
      "train acc :  0.83244\n",
      "validation acc :  0.83324\n",
      "degree=10, lambda=0.000, Training RMSE=0.703, Testing RMSE=0.704\n",
      "train acc :  0.83243\n",
      "validation acc :  0.83314\n",
      "degree=10, lambda=0.000, Training RMSE=0.704, Testing RMSE=0.704\n",
      "train acc :  0.832285\n",
      "validation acc :  0.83322\n",
      "degree=10, lambda=0.000, Training RMSE=0.704, Testing RMSE=0.705\n",
      "train acc :  0.831975\n",
      "validation acc :  0.83322\n",
      "degree=10, lambda=0.000, Training RMSE=0.705, Testing RMSE=0.706\n",
      "train acc :  0.831645\n",
      "validation acc :  0.83298\n",
      "degree=10, lambda=0.000, Training RMSE=0.707, Testing RMSE=0.707\n",
      "train acc :  0.83102\n",
      "validation acc :  0.83276\n",
      "Best params for Ridge regression : degree =  10 , lambda =  5.45559478117e-06 , accuracy =  0.83338\n"
     ]
    },
    {
     "data": {
      "image/png": "[encoded data removed]",
      "text/plain": [
       "<matplotlib.figure.Figure at 0x7fccc947ea58>"
      ]
     },
     "metadata": {},
     "output_type": "display_data"
    }
   ],
   "source": [
    "weights_no_nan, degree_no_nan, lambda_no_nan = test_ridge_regression(\n",
    "    x_no_nan, y_train, x_no_nan_val, y_validation, degrees = np.linspace(10,10,1), lambdas=np.logspace(-8,-4, 20))"
   ]
  },
  {
   "cell_type": "markdown",
   "metadata": {},
   "source": [
    "## Submission\n"
   ]
  },
  {
   "cell_type": "code",
   "execution_count": 58,
   "metadata": {},
   "outputs": [],
   "source": [
    "y_test, x_test, ids_test, header = helper.load_csv_data(DATA_TEST)\n",
    "x_test[x_test == -999] = np.nan"
   ]
  },
  {
   "cell_type": "code",
   "execution_count": 59,
   "metadata": {},
   "outputs": [
    {
     "name": "stderr",
     "output_type": "stream",
     "text": [
      "/home/abbet/anaconda3/envs/ml/lib/python3.5/site-packages/ipykernel/__main__.py:52: RuntimeWarning: invalid value encountered in greater\n",
      "/home/abbet/anaconda3/envs/ml/lib/python3.5/site-packages/ipykernel/__main__.py:53: RuntimeWarning: invalid value encountered in less\n"
     ]
    },
    {
     "name": "stdout",
     "output_type": "stream",
     "text": [
      "\n",
      "Std: [ 1.0739  1.0389  1.149   1.1334  0.5516  0.6303  0.5892  1.0158  1.1171\n",
      "  1.1355  1.107   1.0015  0.5385  1.1449  0.9997  1.1455  1.0002  1.1345\n",
      "  1.1064  1.0007  0.889   0.7718  0.6213  0.5391  1.1289  0.9991  1.0005\n",
      "  1.0003  0.7754  0.5394  1.0009  0.9992  0.9997  0.7734  0.5398  0.9992\n",
      "  1.0005  0.9997  1.0386  0.5883  1.0473  0.5472  0.9993  1.001   0.5594\n",
      "  0.566   0.5941  1.0026  1.0554  1.1094  1.0007  1.0774  0.5892  1.0828\n",
      "  0.9623  1.0705  0.5899  0.5546  1.0481  0.5709  0.6038  0.5451  1.0425\n",
      "  1.0808  1.0004  0.5386  0.5874  1.0877  1.0451  0.6101  0.5913  1.0629\n",
      "  0.6006  0.5783  0.5797] \n",
      "n_feat 75\n"
     ]
    }
   ],
   "source": [
    "x_no_nan_test = x_test.copy()\n",
    "x_no_nan_test, _ = ml.augmented_feat_angle(x_no_nan_test, id_angle, header)\n",
    "x_no_nan_test, _ = ml.add_nan_feature(x_no_nan_test, id_nan, header)\n",
    "x_no_nan_test = add_features(x_no_nan_test, new_feats)\n",
    "x_no_nan_test = remove_useless(x_no_nan_test, id_useless=id_angle)\n",
    "x_no_nan_test = normalize_outliers_feed(x_no_nan_test, mean_train, std_train, max_train, distrib)\n",
    "x_no_nan_test = np.nan_to_num(x_no_nan_test)\n",
    "print('\\nStd:', np.std(x_no_nan_test, axis=0),'\\nn_feat', x_no_nan_test.shape[1])"
   ]
  },
  {
   "cell_type": "code",
   "execution_count": 60,
   "metadata": {},
   "outputs": [],
   "source": [
    "degree_opt = degree_no_nan\n",
    "weights_opt = weights_no_nan\n",
    "\n",
    "_phi_test = lib.build_poly(x_no_nan_test, degree_opt)\n",
    "y_pred = helper.predict_labels(weights_opt, _phi_test)"
   ]
  },
  {
   "cell_type": "code",
   "execution_count": 61,
   "metadata": {},
   "outputs": [
    {
     "name": "stdout",
     "output_type": "stream",
     "text": [
      "Results saved ...\n"
     ]
    }
   ],
   "source": [
    "helper.create_csv_submission(ids_test, y_pred, 'ridge_no_nan1.csv')\n",
    "print('Results saved ...')"
   ]
  },
  {
   "cell_type": "code",
   "execution_count": null,
   "metadata": {},
   "outputs": [],
   "source": []
  }
 ],
 "metadata": {
  "anaconda-cloud": {},
  "kernelspec": {
   "display_name": "Python [conda env:ml]",
   "language": "python",
   "name": "conda-env-ml-py"
  },
  "language_info": {
   "codemirror_mode": {
    "name": "ipython",
    "version": 3
   },
   "file_extension": ".py",
   "mimetype": "text/x-python",
   "name": "python",
   "nbconvert_exporter": "python",
   "pygments_lexer": "ipython3",
   "version": "3.5.4"
  }
 },
 "nbformat": 4,
 "nbformat_minor": 1
}
