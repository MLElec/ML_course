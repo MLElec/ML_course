{
 "cells": [
  {
   "cell_type": "code",
   "execution_count": 3,
   "metadata": {},
   "outputs": [
    {
     "name": "stdout",
     "output_type": "stream",
     "text": [
      "The autoreload extension is already loaded. To reload it, use:\n",
      "  %reload_ext autoreload\n"
     ]
    }
   ],
   "source": [
    "# Useful starting lines\n",
    "%matplotlib inline\n",
    "import numpy as np\n",
    "import matplotlib.pyplot as plt\n",
    "%load_ext autoreload\n",
    "%autoreload 2\n",
    "\n",
    "# Add personal library\n",
    "import sys\n",
    "sys.path.append('../..')\n",
    "import py_ml.lib as lib"
   ]
  },
  {
   "cell_type": "markdown",
   "metadata": {},
   "source": [
    "# Logistic Regression\n",
    "## Classification Using Linear Regression\n",
    "Load your data."
   ]
  },
  {
   "cell_type": "code",
   "execution_count": 4,
   "metadata": {},
   "outputs": [],
   "source": [
    "from helpers import sample_data, load_data, standardize\n",
    "\n",
    "# load data.\n",
    "height, weight, gender = load_data()\n",
    "\n",
    "# build sampled x and y.\n",
    "seed = 1\n",
    "y = np.expand_dims(gender, axis=1)\n",
    "X = np.c_[height.reshape(-1), weight.reshape(-1)]\n",
    "y, X = sample_data(y, X, seed, size_samples=200)\n",
    "x, mean_x, std_x = standardize(X)"
   ]
  },
  {
   "cell_type": "markdown",
   "metadata": {},
   "source": [
    "Use `least_squares` to compute w, and visualize the results."
   ]
  },
  {
   "cell_type": "code",
   "execution_count": 7,
   "metadata": {},
   "outputs": [
    {
     "data": {
      "image/png": "[encoded data removed]",
      "text/plain": [
       "<matplotlib.figure.Figure at 0x7f5a98159908>"
      ]
     },
     "metadata": {},
     "output_type": "display_data"
    }
   ],
   "source": [
    "from plots import visualization\n",
    "\n",
    "def least_square_classification_demo(y, x):\n",
    "    tx = np.c_[np.ones((y.shape[0], 1)), x]\n",
    "    loss, w = lib.least_squares(y, tx)\n",
    "\n",
    "    visualization(y, x, mean_x, std_x, w, \"classification_by_least_square\")\n",
    "    \n",
    "least_square_classification_demo(y, x)"
   ]
  },
  {
   "cell_type": "markdown",
   "metadata": {},
   "source": [
    "## Logistic Regression"
   ]
  },
  {
   "cell_type": "markdown",
   "metadata": {},
   "source": [
    "Compute your cost by negative log likelihood."
   ]
  },
  {
   "cell_type": "code",
   "execution_count": 11,
   "metadata": {},
   "outputs": [],
   "source": [
    "def sigmoid(t):\n",
    "    \"\"\"apply sigmoid function on t.\"\"\"\n",
    "    return np.exp(t)/(1+np.exp(t))"
   ]
  },
  {
   "cell_type": "code",
   "execution_count": 25,
   "metadata": {},
   "outputs": [],
   "source": [
    "def calculate_loss(y, tx, w):\n",
    "    \"\"\"compute the cost by negative log likelihood.\"\"\"\n",
    "    return -np.sum(y*np.log(sigmoid(tx.dot(w))) + (1-y)*np.log(1-sigmoid(tx.dot(w))))"
   ]
  },
  {
   "cell_type": "code",
   "execution_count": 28,
   "metadata": {},
   "outputs": [],
   "source": [
    "def calculate_gradient(y, tx, w):\n",
    "    \"\"\"compute the gradient of loss.\"\"\"\n",
    "    return tx.T.dot(sigmoid(tx.dot(w)-y))"
   ]
  },
  {
   "cell_type": "markdown",
   "metadata": {},
   "source": [
    "### Using Gradient Descent\n",
    "Implement your function to calculate the gradient for logistic regression."
   ]
  },
  {
   "cell_type": "code",
   "execution_count": 34,
   "metadata": {},
   "outputs": [],
   "source": [
    "def learning_by_gradient_descent(y, tx, w, gamma):\n",
    "    \"\"\"\n",
    "    Do one step of gradient descen using logistic regression.\n",
    "    Return the loss and the updated w.\n",
    "    \"\"\"\n",
    "    grad = calculate_gradient(y, tx, w)\n",
    "    w = w-gamma*grad\n",
    "    loss = calculate_loss(y, tx, w)\n",
    "    return loss, w"
   ]
  },
  {
   "cell_type": "markdown",
   "metadata": {},
   "source": [
    "Demo!"
   ]
  },
  {
   "cell_type": "code",
   "execution_count": 35,
   "metadata": {},
   "outputs": [
    {
     "name": "stdout",
     "output_type": "stream",
     "text": [
      "Current iteration=0, loss=131.28505207715295\n",
      "Current iteration=100, loss=467.2251656372706\n",
      "Current iteration=200, loss=536.155860040685\n",
      "Current iteration=300, loss=576.8747215298247\n",
      "Current iteration=400, loss=605.8769700682604\n",
      "Current iteration=500, loss=628.4201274293168\n",
      "Current iteration=600, loss=646.863689176267\n",
      "Current iteration=700, loss=662.4718227842459\n",
      "Current iteration=800, loss=676.001327638407\n",
      "Current iteration=900, loss=687.9413756712253\n",
      "Current iteration=1000, loss=698.6264964012805\n",
      "Current iteration=1100, loss=708.2955902149065\n",
      "Current iteration=1200, loss=717.1252272534716\n",
      "Current iteration=1300, loss=725.2496062386973\n",
      "Current iteration=1400, loss=732.7731132702131\n",
      "Current iteration=1500, loss=739.7785469092073\n",
      "Current iteration=1600, loss=746.3326888125334\n",
      "Current iteration=1700, loss=752.490185874301\n",
      "Current iteration=1800, loss=758.2963230800453\n",
      "Current iteration=1900, loss=763.7890469619302\n",
      "Current iteration=2000, loss=769.0004702838178\n",
      "Current iteration=2100, loss=773.9580098037172\n",
      "Current iteration=2200, loss=778.6852595096381\n",
      "Current iteration=2300, loss=783.2026698633788\n",
      "Current iteration=2400, loss=787.5280825749966\n",
      "Current iteration=2500, loss=791.6771562813126\n",
      "Current iteration=2600, loss=795.6637087920521\n",
      "Current iteration=2700, loss=799.4999947888517\n",
      "Current iteration=2800, loss=803.1969330559556\n",
      "Current iteration=2900, loss=806.7642938640755\n",
      "Current iteration=3000, loss=810.2108546091033\n",
      "Current iteration=3100, loss=813.5445299483706\n",
      "Current iteration=3200, loss=816.7724812902769\n",
      "Current iteration=3300, loss=819.9012094475164\n",
      "Current iteration=3400, loss=822.9366334681889\n",
      "Current iteration=3500, loss=825.8841580476983\n",
      "Current iteration=3600, loss=828.7487314506551\n",
      "Current iteration=3700, loss=831.5348955021519\n",
      "Current iteration=3800, loss=834.2468289167873\n",
      "Current iteration=3900, loss=836.8883850032853\n",
      "Current iteration=4000, loss=839.4631245986884\n",
      "Current iteration=4100, loss=841.9743449385638\n",
      "Current iteration=4200, loss=844.4251050505404\n",
      "Current iteration=4300, loss=846.8182481617985\n",
      "Current iteration=4400, loss=849.1564215322055\n",
      "Current iteration=4500, loss=851.4420940600548\n",
      "Current iteration=4600, loss=853.6775719540186\n",
      "Current iteration=4700, loss=855.8650127207212\n",
      "Current iteration=4800, loss=858.0064376806185\n",
      "Current iteration=4900, loss=860.1037431941611\n",
      "Current iteration=5000, loss=862.1587107545266\n",
      "Current iteration=5100, loss=864.1730160815091\n",
      "Current iteration=5200, loss=866.1482373329076\n",
      "Current iteration=5300, loss=868.0858625342177\n",
      "Current iteration=5400, loss=869.9872963142664\n",
      "Current iteration=5500, loss=871.8538660231625\n",
      "Current iteration=5600, loss=873.6868272993242\n",
      "Current iteration=5700, loss=875.4873691440515\n",
      "Current iteration=5800, loss=877.2566185550219\n",
      "Current iteration=5900, loss=878.9956447639254\n",
      "Current iteration=6000, loss=880.7054631181458\n",
      "Current iteration=6100, loss=882.3870386417682\n",
      "Current iteration=6200, loss=884.0412893071992\n",
      "Current iteration=6300, loss=885.6690890451544\n",
      "Current iteration=6400, loss=887.2712705177405\n",
      "Current iteration=6500, loss=888.848627676655\n",
      "Current iteration=6600, loss=890.4019181261718\n",
      "Current iteration=6700, loss=891.9318653085427\n",
      "Current iteration=6800, loss=893.4391605275638\n",
      "Current iteration=6900, loss=894.9244648245058\n",
      "Current iteration=7000, loss=896.3884107191251\n",
      "Current iteration=7100, loss=897.8316038272606\n",
      "Current iteration=7200, loss=899.2546243653371\n",
      "Current iteration=7300, loss=900.6580285511562\n",
      "Current iteration=7400, loss=902.0423499094356\n",
      "Current iteration=7500, loss=903.4081004897499\n",
      "Current iteration=7600, loss=904.7557720038507\n",
      "Current iteration=7700, loss=906.085836888667\n",
      "Current iteration=7800, loss=907.3987493007687\n",
      "Current iteration=7900, loss=908.6949460474896\n",
      "Current iteration=8000, loss=909.9748474595234\n",
      "Current iteration=8100, loss=911.238858209334\n",
      "Current iteration=8200, loss=912.4873680793796\n",
      "Current iteration=8300, loss=913.720752683785\n",
      "Current iteration=8400, loss=914.9393741468198\n",
      "Current iteration=8500, loss=916.1435817412453\n",
      "Current iteration=8600, loss=917.3337124893403\n",
      "Current iteration=8700, loss=918.5100917291954\n",
      "Current iteration=8800, loss=919.6730336486651\n",
      "Current iteration=8900, loss=920.8228417891548\n",
      "Current iteration=9000, loss=921.9598095212766\n",
      "Current iteration=9100, loss=923.0842204942377\n",
      "Current iteration=9200, loss=924.1963490606686\n",
      "Current iteration=9300, loss=925.2964606785092\n",
      "Current iteration=9400, loss=926.3848122913992\n",
      "Current iteration=9500, loss=927.4616526889536\n",
      "Current iteration=9600, loss=928.527222848179\n",
      "Current iteration=9700, loss=929.5817562572112\n",
      "Current iteration=9800, loss=930.6254792224444\n",
      "Current iteration=9900, loss=931.6586111600857\n",
      "loss=932.6711880251157\n"
     ]
    },
    {
     "data": {
      "image/png": "[encoded data removed]",
      "text/plain": [
       "<matplotlib.figure.Figure at 0x7f5a72c9f4e0>"
      ]
     },
     "metadata": {},
     "output_type": "display_data"
    }
   ],
   "source": [
    "from helpers import de_standardize\n",
    "\n",
    "def logistic_regression_gradient_descent_demo(y, x):\n",
    "    # init parameters\n",
    "    max_iter = 10000\n",
    "    threshold = 1e-8\n",
    "    gamma = 0.01\n",
    "    losses = []\n",
    "\n",
    "    # build tx\n",
    "    tx = np.c_[np.ones((y.shape[0], 1)), x]\n",
    "    w = np.zeros((tx.shape[1], 1))\n",
    "\n",
    "    # start the logistic regression\n",
    "    for iter in range(max_iter):\n",
    "        # get loss and update w.\n",
    "        loss, w = learning_by_gradient_descent(y, tx, w, gamma)\n",
    "        # log info\n",
    "        if iter % 100 == 0:\n",
    "            print(\"Current iteration={i}, loss={l}\".format(i=iter, l=loss))\n",
    "        # converge criterion\n",
    "        losses.append(loss)\n",
    "        if len(losses) > 1 and np.abs(losses[-1] - losses[-2]) < threshold:\n",
    "            break\n",
    "    # visualization\n",
    "    visualization(y, x, mean_x, std_x, w, \"classification_by_logistic_regression_gradient_descent\")\n",
    "    print(\"loss={l}\".format(l=calculate_loss(y, tx, w)))\n",
    "\n",
    "logistic_regression_gradient_descent_demo(y, x)"
   ]
  },
  {
   "cell_type": "markdown",
   "metadata": {},
   "source": [
    "Calculate your hessian below"
   ]
  },
  {
   "cell_type": "code",
   "execution_count": null,
   "metadata": {
    "collapsed": true
   },
   "outputs": [],
   "source": [
    "def calculate_hessian(y, tx, w):\n",
    "    \"\"\"return the hessian of the loss function.\"\"\"\n",
    "    # ***************************************************\n",
    "    # INSERT YOUR CODE HERE\n",
    "    # calculate hessian: TODO\n",
    "    # ***************************************************\n",
    "    raise NotImplementedError"
   ]
  },
  {
   "cell_type": "markdown",
   "metadata": {},
   "source": [
    "Write a function below to return loss, gradient, and hessian."
   ]
  },
  {
   "cell_type": "code",
   "execution_count": null,
   "metadata": {
    "collapsed": true
   },
   "outputs": [],
   "source": [
    "def logistic_regression(y, tx, w):\n",
    "    \"\"\"return the loss, gradient, and hessian.\"\"\"\n",
    "    # ***************************************************\n",
    "    # INSERT YOUR CODE HERE\n",
    "    # return loss, gradient, and hessian: TODO\n",
    "    # ***************************************************\n",
    "    raise NotImplementedError"
   ]
  },
  {
   "cell_type": "markdown",
   "metadata": {},
   "source": [
    "### Using Newton's method\n",
    "Use Newton's method for logistic regression."
   ]
  },
  {
   "cell_type": "code",
   "execution_count": null,
   "metadata": {
    "collapsed": true
   },
   "outputs": [],
   "source": [
    "def learning_by_newton_method(y, tx, w):\n",
    "    \"\"\"\n",
    "    Do one step on Newton's method.\n",
    "    return the loss and updated w.\n",
    "    \"\"\"\n",
    "    # ***************************************************\n",
    "    # INSERT YOUR CODE HERE\n",
    "    # return loss, gradient and hessian: TODO\n",
    "    # ***************************************************\n",
    "    raise NotImplementedError\n",
    "    # ***************************************************\n",
    "    # INSERT YOUR CODE HERE\n",
    "    # update w: TODO\n",
    "    # ***************************************************\n",
    "    raise NotImplementedError\n",
    "    return loss, w"
   ]
  },
  {
   "cell_type": "markdown",
   "metadata": {},
   "source": [
    "demo"
   ]
  },
  {
   "cell_type": "code",
   "execution_count": null,
   "metadata": {
    "scrolled": true
   },
   "outputs": [],
   "source": [
    "def logistic_regression_newton_method_demo(y, x):\n",
    "    # init parameters\n",
    "    max_iter = 100\n",
    "    threshold = 1e-8\n",
    "    lambda_ = 0.1\n",
    "    losses = []\n",
    "\n",
    "    # build tx\n",
    "    tx = np.c_[np.ones((y.shape[0], 1)), x]\n",
    "    w = np.zeros((tx.shape[1], 1))\n",
    "\n",
    "    # start the logistic regression\n",
    "    for iter in range(max_iter):\n",
    "        # get loss and update w.\n",
    "        loss, w = learning_by_newton_method(y, tx, w)\n",
    "        # log info\n",
    "        if iter % 1 == 0:\n",
    "            print(\"Current iteration={i}, the loss={l}\".format(i=iter, l=loss))\n",
    "        # converge criterion\n",
    "        losses.append(loss)\n",
    "        if len(losses) > 1 and np.abs(losses[-1] - losses[-2]) < threshold:\n",
    "            break\n",
    "    # visualization\n",
    "    visualization(y, x, mean_x, std_x, w, \"classification_by_logistic_regression_newton_method\")\n",
    "    print(\"loss={l}\".format(l=calculate_loss(y, tx, w)))\n",
    "\n",
    "logistic_regression_newton_method_demo(y, x)"
   ]
  },
  {
   "cell_type": "markdown",
   "metadata": {},
   "source": [
    "### Using penalized logistic regression\n",
    "Fill in the function below."
   ]
  },
  {
   "cell_type": "code",
   "execution_count": null,
   "metadata": {
    "collapsed": true
   },
   "outputs": [],
   "source": [
    "def penalized_logistic_regression(y, tx, w, lambda_):\n",
    "    \"\"\"return the loss, gradient, and hessian.\"\"\"\n",
    "    # ***************************************************\n",
    "    # INSERT YOUR CODE HERE\n",
    "    # return loss, gradient, and hessian: TODO\n",
    "    # ***************************************************\n",
    "    raise NotImplementedError"
   ]
  },
  {
   "cell_type": "code",
   "execution_count": null,
   "metadata": {
    "collapsed": true
   },
   "outputs": [],
   "source": [
    "def learning_by_penalized_gradient(y, tx, w, gamma, lambda_):\n",
    "    \"\"\"\n",
    "    Do one step of gradient descent, using the penalized logistic regression.\n",
    "    Return the loss and updated w.\n",
    "    \"\"\"\n",
    "    # ***************************************************\n",
    "    # INSERT YOUR CODE HERE\n",
    "    # return loss, gradient: TODO\n",
    "    # ***************************************************\n",
    "    raise NotImplementedError\n",
    "    # ***************************************************\n",
    "    # INSERT YOUR CODE HERE\n",
    "    # update w: TODO\n",
    "    # ***************************************************\n",
    "    raise NotImplementedError\n",
    "    return loss, w"
   ]
  },
  {
   "cell_type": "code",
   "execution_count": null,
   "metadata": {},
   "outputs": [],
   "source": [
    "def logistic_regression_penalized_gradient_descent_demo(y, x):\n",
    "    # init parameters\n",
    "    max_iter = 10000\n",
    "    gamma = 0.01\n",
    "    lambda_ = 0.1\n",
    "    threshold = 1e-8\n",
    "    losses = []\n",
    "\n",
    "    # build tx\n",
    "    tx = np.c_[np.ones((y.shape[0], 1)), x]\n",
    "    w = np.zeros((tx.shape[1], 1))\n",
    "\n",
    "    # start the logistic regression\n",
    "    for iter in range(max_iter):\n",
    "        # get loss and update w.\n",
    "        loss, w = learning_by_penalized_gradient(y, tx, w, gamma, lambda_)\n",
    "        # log info\n",
    "        if iter % 100 == 0:\n",
    "            print(\"Current iteration={i}, loss={l}\".format(i=iter, l=loss))\n",
    "        # converge criterion\n",
    "        losses.append(loss)\n",
    "        if len(losses) > 1 and np.abs(losses[-1] - losses[-2]) < threshold:\n",
    "            break\n",
    "    # visualization\n",
    "    visualization(y, x, mean_x, std_x, w, \"classification_by_logistic_regression_penalized_gradient_descent\")\n",
    "    print(\"loss={l}\".format(l=calculate_loss(y, tx, w)))\n",
    "    \n",
    "logistic_regression_penalized_gradient_descent_demo(y, x)"
   ]
  },
  {
   "cell_type": "code",
   "execution_count": null,
   "metadata": {
    "collapsed": true
   },
   "outputs": [],
   "source": []
  }
 ],
 "metadata": {
  "anaconda-cloud": {},
  "kernelspec": {
   "display_name": "Python [conda env:ml]",
   "language": "python",
   "name": "conda-env-ml-py"
  },
  "language_info": {
   "codemirror_mode": {
    "name": "ipython",
    "version": 3
   },
   "file_extension": ".py",
   "mimetype": "text/x-python",
   "name": "python",
   "nbconvert_exporter": "python",
   "pygments_lexer": "ipython3",
   "version": "3.5.4"
  }
 },
 "nbformat": 4,
 "nbformat_minor": 1
}
