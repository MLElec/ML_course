{
 "cells": [
  {
   "cell_type": "code",
   "execution_count": 1,
   "metadata": {},
   "outputs": [],
   "source": [
    "# Useful starting lines\n",
    "%load_ext autoreload\n",
    "%autoreload 2\n",
    "%matplotlib inline\n",
    "import numpy as np\n",
    "import matplotlib.pyplot as plt\n",
    "import sys\n",
    "sys.path.append('../..')\n",
    "\n",
    "import py_ml.lib as lib"
   ]
  },
  {
   "cell_type": "markdown",
   "metadata": {},
   "source": [
    "# 1 Least squares and linear basis functions models\n",
    "## 1.1 Least squares"
   ]
  },
  {
   "cell_type": "code",
   "execution_count": 2,
   "metadata": {},
   "outputs": [],
   "source": [
    "def mse(y, ty):\n",
    "    e = y - ty\n",
    "    loss = 1/(2*np.shape(y)[0])*e.dot(e.T)\n",
    "    return loss\n",
    "\n",
    "def least_squares(y, tx):\n",
    "    w = np.linalg.inv(tx.T.dot(tx)).dot(tx.T).dot(y)\n",
    "    #w = np.linalg.solve(tx, y)\n",
    "    loss = mse(y, tx.dot(w))\n",
    "    return loss, w"
   ]
  },
  {
   "cell_type": "markdown",
   "metadata": {},
   "source": [
    "### Load the data\n",
    "Here we will reuse the dataset `height_weight_genders.csv` from previous exercise section to check the correctness of your implementation. Please compare it with your previous result."
   ]
  },
  {
   "cell_type": "code",
   "execution_count": 3,
   "metadata": {},
   "outputs": [],
   "source": [
    "from helpers import *\n",
    "\n",
    "\n",
    "def test_your_least_squares():\n",
    "    height, weight, gender = load_data_from_ex02(sub_sample=False, add_outlier=False)\n",
    "    x, mean_x, std_x = standardize(height)\n",
    "    y, tx = build_model_data(x, weight)\n",
    "    \n",
    "    # Least square\n",
    "    l_ls, w_ls = least_squares(y, tx)\n",
    "    \n",
    "    # Gradient descent\n",
    "    l_gd, w_gd = lib.gradient_descent(y, tx)\n",
    "    \n",
    "    # Stoch. GD\n",
    "    l_sgd, w_sgd = lib.stochastic_gradient_descent(y, tx)\n",
    "\n",
    "    # Grid search\n",
    "    grid_w0, grid_w1 = lib.generate_w(num_intervals=50)\n",
    "    grid_losses = lib.grid_search(y, tx, grid_w0, grid_w1)\n",
    "    l_gs, w0_star, w1_star = lib.get_best_parameters(grid_w0, grid_w1, grid_losses)\n",
    "    w_gs = [w0_star, w1_star]\n",
    "    \n",
    "    print('Loss\\n LS: {}, GD: {}, SGD: {}, GS: {}'.format(l_ls, l_gd, l_sgd, l_gs))\n",
    "    print('Weigths (W): \\n LS: {}\\n GD: {}\\n SGD: {}\\n GS: {}'.format(w_ls, w_gd, w_sgd, w_gs))"
   ]
  },
  {
   "cell_type": "markdown",
   "metadata": {},
   "source": [
    "Test it here"
   ]
  },
  {
   "cell_type": "code",
   "execution_count": 4,
   "metadata": {},
   "outputs": [
    {
     "name": "stdout",
     "output_type": "stream",
     "text": [
      "Loss\n",
      " LS: 15.385887868829398, GD: 15.385890287459308, SGD: 15.428312229858282, GS: 18.79354101952324\n",
      "Weigths (W): \n",
      " LS: [ 73.293922    13.47971243]\n",
      " GD: [ 73.29197521  13.47935439]\n",
      " SGD: [ 73.33848817  13.35366675]\n",
      " GS: [71.428571428571416, 15.306122448979579]\n"
     ]
    }
   ],
   "source": [
    "test_your_least_squares()"
   ]
  },
  {
   "cell_type": "markdown",
   "metadata": {},
   "source": [
    "## 1.2 Least squares with a linear basis function model\n",
    "Start from this section, we will use the dataset `dataEx3.csv`.\n",
    "\n",
    "### Implement polynomial basis functions"
   ]
  },
  {
   "cell_type": "code",
   "execution_count": 5,
   "metadata": {
    "scrolled": true
   },
   "outputs": [
    {
     "name": "stdout",
     "output_type": "stream",
     "text": [
      "shape of x (50,)\n",
      "shape of y (50,)\n"
     ]
    }
   ],
   "source": [
    "# load dataset\n",
    "x, y = load_data()\n",
    "print(\"shape of x {}\".format(x.shape))\n",
    "print(\"shape of y {}\".format(y.shape))"
   ]
  },
  {
   "cell_type": "code",
   "execution_count": 6,
   "metadata": {},
   "outputs": [],
   "source": [
    "def build_poly(x, degree):\n",
    "    \"\"\"polynomial basis functions for input data x, for j=0 up to j=degree.\"\"\"\n",
    "    _x = np.ones((np.shape(x)[0], degree+1))\n",
    "    for i in range(1, degree+1):\n",
    "        _x[:, i] = x**i\n",
    "    return _x"
   ]
  },
  {
   "cell_type": "markdown",
   "metadata": {},
   "source": [
    "Let us play with polynomial regression. Note that we will use your implemented function `compute_mse`. Please copy and paste your implementation from exercise02."
   ]
  },
  {
   "cell_type": "code",
   "execution_count": 7,
   "metadata": {},
   "outputs": [],
   "source": [
    "from plots import *\n",
    "\n",
    "def polynomial_regression():\n",
    "    \"\"\"Constructing the polynomial basis function expansion of the data,\n",
    "       and then running least squares regression.\"\"\"\n",
    "    # define parameters\n",
    "    degrees = [1, 3, 7, 12]\n",
    "    \n",
    "    # define the structure of the figure\n",
    "    num_row = 2\n",
    "    num_col = 2\n",
    "    f, axs = plt.subplots(num_row, num_col)\n",
    "\n",
    "    for ind, degree in enumerate(degrees):\n",
    "        \n",
    "        phi = build_poly(x, degree)\n",
    "        mse, weights = least_squares(y, phi)\n",
    "        rmse = np.sqrt(2*mse)\n",
    "        \n",
    "        print(\"Processing {i}th experiment, degree={d}, rmse={loss}\".format(\n",
    "              i=ind + 1, d=degree, loss=rmse))\n",
    "        # plot fit\n",
    "        plot_fitted_curve(\n",
    "            y, x, weights, degree, axs[ind // num_col][ind % num_col])\n",
    "    plt.tight_layout()\n",
    "    plt.savefig(\"visualize_polynomial_regression\")\n",
    "    plt.show()"
   ]
  },
  {
   "cell_type": "markdown",
   "metadata": {},
   "source": [
    "Run polynomial regression"
   ]
  },
  {
   "cell_type": "code",
   "execution_count": 8,
   "metadata": {},
   "outputs": [
    {
     "name": "stdout",
     "output_type": "stream",
     "text": [
      "Processing 1th experiment, degree=1, rmse=0.47187607963421874\n",
      "Processing 2th experiment, degree=3, rmse=0.2585827766773749\n",
      "Processing 3th experiment, degree=7, rmse=0.24965870360908396\n",
      "Processing 4th experiment, degree=12, rmse=0.9268294530625559\n"
     ]
    },
    {
     "data": {
      "image/png": "[encoded data removed]",
      "text/plain": [
       "<matplotlib.figure.Figure at 0x7f20bab12ac8>"
      ]
     },
     "metadata": {},
     "output_type": "display_data"
    }
   ],
   "source": [
    "polynomial_regression()"
   ]
  },
  {
   "cell_type": "markdown",
   "metadata": {},
   "source": [
    "# 2 Evaluating model predication performance\n",
    "\n",
    "\n",
    "Let us show the train and test splits for various polynomial degrees. First of all, please fill in the function `split_data()`"
   ]
  },
  {
   "cell_type": "code",
   "execution_count": 9,
   "metadata": {},
   "outputs": [],
   "source": [
    "def split_data(x, y, ratio, seed=1):\n",
    "    \"\"\"\n",
    "    split the dataset based on the split ratio. If ratio is 0.8 \n",
    "    you will have 80% of your data set dedicated to training \n",
    "    and the rest dedicated to testing\n",
    "    \"\"\"\n",
    "    # set seed\n",
    "    np.random.seed(seed)\n",
    "    id_keep = np.random.rand(x.shape[0]) <= ratio\n",
    "    return x[id_keep], x[~id_keep], y[id_keep], y[~id_keep]"
   ]
  },
  {
   "cell_type": "markdown",
   "metadata": {},
   "source": [
    "Then, test your `split_data` function below."
   ]
  },
  {
   "cell_type": "code",
   "execution_count": 10,
   "metadata": {},
   "outputs": [],
   "source": [
    "def train_test_split_demo(x, y, degree, ratio, seed):\n",
    "    \"\"\"polynomial regression with different split ratios and different degrees.\"\"\"\n",
    "   \n",
    "    # Split sets\n",
    "    x_train, x_test, y_train, y_test = split_data(x, y, ratio, seed)\n",
    "   \n",
    "    # Get ploynomial\n",
    "    phi_train = build_poly(x_train, degree)\n",
    "    phi_test = build_poly(x_test, degree)\n",
    "    \n",
    "    # Least squared\n",
    "    mse_tr, weights = least_squares(y_train, phi_train)\n",
    "    mse_te = mse(y_test, phi_test.dot(weights))\n",
    "    rmse_tr = np.sqrt(2*mse_tr)\n",
    "    rmse_te = np.sqrt(2*mse_te)\n",
    "    \n",
    "    print(\"proportion={p}, degree={d}, Training RMSE={tr:.3f}, Testing RMSE={te:.3f}\".format(\n",
    "          p=ratio, d=degree, tr=rmse_tr, te=rmse_te))\n"
   ]
  },
  {
   "cell_type": "code",
   "execution_count": 11,
   "metadata": {},
   "outputs": [
    {
     "name": "stdout",
     "output_type": "stream",
     "text": [
      "proportion=0.9, degree=1, Training RMSE=0.478, Testing RMSE=0.424\n",
      "proportion=0.9, degree=3, Training RMSE=0.263, Testing RMSE=0.226\n",
      "proportion=0.9, degree=7, Training RMSE=0.249, Testing RMSE=0.286\n",
      "proportion=0.9, degree=12, Training RMSE=0.351, Testing RMSE=0.383\n",
      "proportion=0.5, degree=1, Training RMSE=0.502, Testing RMSE=0.466\n",
      "proportion=0.5, degree=3, Training RMSE=0.196, Testing RMSE=0.349\n",
      "proportion=0.5, degree=7, Training RMSE=0.186, Testing RMSE=1.282\n",
      "proportion=0.5, degree=12, Training RMSE=0.497, Testing RMSE=1.941\n",
      "proportion=0.1, degree=1, Training RMSE=0.128, Testing RMSE=0.643\n",
      "proportion=0.1, degree=3, Training RMSE=0.357, Testing RMSE=4.651\n",
      "proportion=0.1, degree=7, Training RMSE=1.497, Testing RMSE=5.582\n",
      "proportion=0.1, degree=12, Training RMSE=8.051, Testing RMSE=557.598\n"
     ]
    }
   ],
   "source": [
    "seed = 6\n",
    "degrees = [1, 3, 7, 12]\n",
    "split_ratios = [0.9, 0.5, 0.1]\n",
    "\n",
    "for split_ratio in split_ratios:\n",
    "    for degree in degrees:\n",
    "        train_test_split_demo(x, y, degree, split_ratio, seed)"
   ]
  },
  {
   "cell_type": "markdown",
   "metadata": {},
   "source": [
    "# 3 Ridge Regression\n",
    "Please fill in the function below."
   ]
  },
  {
   "cell_type": "code",
   "execution_count": 12,
   "metadata": {},
   "outputs": [],
   "source": [
    "def ridge_regression(y, tx, lambda_):\n",
    "    \"\"\"implement ridge regression.\"\"\"\n",
    "    \n",
    "    Lambda_ = lambda_*np.eye(tx.shape[1])\n",
    "    w = np.linalg.inv(tx.T.dot(tx) + Lambda_.T.dot(Lambda_)).dot(tx.T).dot(y)\n",
    "    loss = mse(y, tx.dot(w))\n",
    "    return loss, w"
   ]
  },
  {
   "cell_type": "code",
   "execution_count": 13,
   "metadata": {},
   "outputs": [],
   "source": [
    "def ridge_regression_demo(x, y, degree, ratio, seed):\n",
    "    \"\"\"ridge regression demo.\"\"\"\n",
    "    # define parameter\n",
    "    lambdas = np.logspace(-5, 0, 15)\n",
    "    \n",
    "    # Split sets\n",
    "    x_train, x_test, y_train, y_test = split_data(x, y, ratio, seed)\n",
    "    \n",
    "    # Get ploynomial\n",
    "    phi_train = build_poly(x_train, degree)\n",
    "    phi_test = build_poly(x_test, degree)\n",
    "\n",
    "    rmse_tr = []\n",
    "    rmse_te = []\n",
    "    for ind, lambda_ in enumerate(lambdas):\n",
    "        \n",
    "        mse_tr, weights = ridge_regression(y_train, phi_train, lambda_)\n",
    "        mse_te = mse(y_test, phi_test.dot(weights))\n",
    "        rmse_tr.append(np.sqrt(2*mse_tr))\n",
    "        rmse_te.append(np.sqrt(2*mse_te))\n",
    "    \n",
    "        print(\"proportion={p}, degree={d}, lambda={l:.3f}, Training RMSE={tr:.3f}, Testing RMSE={te:.3f}\".format(\n",
    "               p=ratio, d=degree, l=lambda_, tr=rmse_tr[ind], te=rmse_te[ind]))\n",
    "        \n",
    "    # Plot the obtained results\n",
    "    plot_train_test(rmse_tr, rmse_te, lambdas, degree)\n",
    "\n"
   ]
  },
  {
   "cell_type": "code",
   "execution_count": 14,
   "metadata": {},
   "outputs": [
    {
     "name": "stdout",
     "output_type": "stream",
     "text": [
      "proportion=0.5, degree=7, lambda=0.000, Training RMSE=0.220, Testing RMSE=0.336\n",
      "proportion=0.5, degree=7, lambda=0.000, Training RMSE=0.220, Testing RMSE=0.336\n",
      "proportion=0.5, degree=7, lambda=0.000, Training RMSE=0.220, Testing RMSE=0.336\n",
      "proportion=0.5, degree=7, lambda=0.000, Training RMSE=0.220, Testing RMSE=0.336\n",
      "proportion=0.5, degree=7, lambda=0.000, Training RMSE=0.220, Testing RMSE=0.336\n",
      "proportion=0.5, degree=7, lambda=0.001, Training RMSE=0.220, Testing RMSE=0.336\n",
      "proportion=0.5, degree=7, lambda=0.001, Training RMSE=0.220, Testing RMSE=0.336\n",
      "proportion=0.5, degree=7, lambda=0.003, Training RMSE=0.220, Testing RMSE=0.335\n",
      "proportion=0.5, degree=7, lambda=0.007, Training RMSE=0.220, Testing RMSE=0.331\n",
      "proportion=0.5, degree=7, lambda=0.016, Training RMSE=0.221, Testing RMSE=0.317\n",
      "proportion=0.5, degree=7, lambda=0.037, Training RMSE=0.227, Testing RMSE=0.291\n",
      "proportion=0.5, degree=7, lambda=0.085, Training RMSE=0.236, Testing RMSE=0.276\n",
      "proportion=0.5, degree=7, lambda=0.193, Training RMSE=0.240, Testing RMSE=0.273\n",
      "proportion=0.5, degree=7, lambda=0.439, Training RMSE=0.241, Testing RMSE=0.274\n",
      "proportion=0.5, degree=7, lambda=1.000, Training RMSE=0.244, Testing RMSE=0.283\n"
     ]
    },
    {
     "data": {
      "image/png": "[encoded data removed]",
      "text/plain": [
       "<matplotlib.figure.Figure at 0x7f20baa80d68>"
      ]
     },
     "metadata": {},
     "output_type": "display_data"
    }
   ],
   "source": [
    "seed = 9 # 26\n",
    "degree = 7\n",
    "split_ratio = 0.5\n",
    "ridge_regression_demo(x, y, degree, split_ratio, seed)"
   ]
  },
  {
   "cell_type": "code",
   "execution_count": null,
   "metadata": {},
   "outputs": [],
   "source": []
  }
 ],
 "metadata": {
  "anaconda-cloud": {},
  "kernelspec": {
   "display_name": "Python [default]",
   "language": "python",
   "name": "python3"
  },
  "language_info": {
   "codemirror_mode": {
    "name": "ipython",
    "version": 3
   },
   "file_extension": ".py",
   "mimetype": "text/x-python",
   "name": "python",
   "nbconvert_exporter": "python",
   "pygments_lexer": "ipython3",
   "version": "3.5.4"
  }
 },
 "nbformat": 4,
 "nbformat_minor": 1
}
